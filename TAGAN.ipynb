{
  "nbformat": 4,
  "nbformat_minor": 0,
  "metadata": {
    "colab": {
      "name": "TAGAN.ipynb",
      "provenance": [],
      "collapsed_sections": [],
      "toc_visible": true
    },
    "kernelspec": {
      "name": "python3",
      "display_name": "Python 3"
    },
    "accelerator": "GPU"
  },
  "cells": [
    {
      "cell_type": "code",
      "metadata": {
        "id": "WEOOLUEN6eOE",
        "colab_type": "code",
        "outputId": "2dfd799a-ed0a-439c-8747-4f4cbdf900fd",
        "colab": {
          "base_uri": "https://localhost:8080/",
          "height": 105
        }
      },
      "source": [
        "!pip install fasttext"
      ],
      "execution_count": 0,
      "outputs": [
        {
          "output_type": "stream",
          "text": [
            "Requirement already satisfied: fasttext in /usr/local/lib/python3.6/dist-packages (0.9.1)\n",
            "Requirement already satisfied: setuptools>=0.7.0 in /usr/local/lib/python3.6/dist-packages (from fasttext) (45.1.0)\n",
            "Requirement already satisfied: numpy in /usr/local/lib/python3.6/dist-packages (from fasttext) (1.17.5)\n",
            "Requirement already satisfied: pybind11>=2.2 in /usr/local/lib/python3.6/dist-packages (from fasttext) (2.4.3)\n"
          ],
          "name": "stdout"
        }
      ]
    },
    {
      "cell_type": "code",
      "metadata": {
        "id": "p3GOlJ32XhNQ",
        "colab_type": "code",
        "outputId": "69a53669-438b-46c0-efee-0e2ec5bc7076",
        "colab": {
          "base_uri": "https://localhost:8080/",
          "height": 528
        }
      },
      "source": [
        "from google.colab import drive\n",
        "drive.mount('/content/drive')"
      ],
      "execution_count": 0,
      "outputs": [
        {
          "output_type": "error",
          "ename": "KeyboardInterrupt",
          "evalue": "ignored",
          "traceback": [
            "\u001b[0;31m---------------------------------------------------------------------------\u001b[0m",
            "\u001b[0;31mKeyboardInterrupt\u001b[0m                         Traceback (most recent call last)",
            "\u001b[0;32m/usr/local/lib/python3.6/dist-packages/ipykernel/kernelbase.py\u001b[0m in \u001b[0;36m_input_request\u001b[0;34m(self, prompt, ident, parent, password)\u001b[0m\n\u001b[1;32m    729\u001b[0m             \u001b[0;32mtry\u001b[0m\u001b[0;34m:\u001b[0m\u001b[0;34m\u001b[0m\u001b[0;34m\u001b[0m\u001b[0m\n\u001b[0;32m--> 730\u001b[0;31m                 \u001b[0mident\u001b[0m\u001b[0;34m,\u001b[0m \u001b[0mreply\u001b[0m \u001b[0;34m=\u001b[0m \u001b[0mself\u001b[0m\u001b[0;34m.\u001b[0m\u001b[0msession\u001b[0m\u001b[0;34m.\u001b[0m\u001b[0mrecv\u001b[0m\u001b[0;34m(\u001b[0m\u001b[0mself\u001b[0m\u001b[0;34m.\u001b[0m\u001b[0mstdin_socket\u001b[0m\u001b[0;34m,\u001b[0m \u001b[0;36m0\u001b[0m\u001b[0;34m)\u001b[0m\u001b[0;34m\u001b[0m\u001b[0;34m\u001b[0m\u001b[0m\n\u001b[0m\u001b[1;32m    731\u001b[0m             \u001b[0;32mexcept\u001b[0m \u001b[0mException\u001b[0m\u001b[0;34m:\u001b[0m\u001b[0;34m\u001b[0m\u001b[0;34m\u001b[0m\u001b[0m\n",
            "\u001b[0;32m/usr/local/lib/python3.6/dist-packages/jupyter_client/session.py\u001b[0m in \u001b[0;36mrecv\u001b[0;34m(self, socket, mode, content, copy)\u001b[0m\n\u001b[1;32m    802\u001b[0m         \u001b[0;32mtry\u001b[0m\u001b[0;34m:\u001b[0m\u001b[0;34m\u001b[0m\u001b[0;34m\u001b[0m\u001b[0m\n\u001b[0;32m--> 803\u001b[0;31m             \u001b[0mmsg_list\u001b[0m \u001b[0;34m=\u001b[0m \u001b[0msocket\u001b[0m\u001b[0;34m.\u001b[0m\u001b[0mrecv_multipart\u001b[0m\u001b[0;34m(\u001b[0m\u001b[0mmode\u001b[0m\u001b[0;34m,\u001b[0m \u001b[0mcopy\u001b[0m\u001b[0;34m=\u001b[0m\u001b[0mcopy\u001b[0m\u001b[0;34m)\u001b[0m\u001b[0;34m\u001b[0m\u001b[0;34m\u001b[0m\u001b[0m\n\u001b[0m\u001b[1;32m    804\u001b[0m         \u001b[0;32mexcept\u001b[0m \u001b[0mzmq\u001b[0m\u001b[0;34m.\u001b[0m\u001b[0mZMQError\u001b[0m \u001b[0;32mas\u001b[0m \u001b[0me\u001b[0m\u001b[0;34m:\u001b[0m\u001b[0;34m\u001b[0m\u001b[0;34m\u001b[0m\u001b[0m\n",
            "\u001b[0;32m/usr/local/lib/python3.6/dist-packages/zmq/sugar/socket.py\u001b[0m in \u001b[0;36mrecv_multipart\u001b[0;34m(self, flags, copy, track)\u001b[0m\n\u001b[1;32m    465\u001b[0m         \"\"\"\n\u001b[0;32m--> 466\u001b[0;31m         \u001b[0mparts\u001b[0m \u001b[0;34m=\u001b[0m \u001b[0;34m[\u001b[0m\u001b[0mself\u001b[0m\u001b[0;34m.\u001b[0m\u001b[0mrecv\u001b[0m\u001b[0;34m(\u001b[0m\u001b[0mflags\u001b[0m\u001b[0;34m,\u001b[0m \u001b[0mcopy\u001b[0m\u001b[0;34m=\u001b[0m\u001b[0mcopy\u001b[0m\u001b[0;34m,\u001b[0m \u001b[0mtrack\u001b[0m\u001b[0;34m=\u001b[0m\u001b[0mtrack\u001b[0m\u001b[0;34m)\u001b[0m\u001b[0;34m]\u001b[0m\u001b[0;34m\u001b[0m\u001b[0;34m\u001b[0m\u001b[0m\n\u001b[0m\u001b[1;32m    467\u001b[0m         \u001b[0;31m# have first part already, only loop while more to receive\u001b[0m\u001b[0;34m\u001b[0m\u001b[0;34m\u001b[0m\u001b[0;34m\u001b[0m\u001b[0m\n",
            "\u001b[0;32mzmq/backend/cython/socket.pyx\u001b[0m in \u001b[0;36mzmq.backend.cython.socket.Socket.recv\u001b[0;34m()\u001b[0m\n",
            "\u001b[0;32mzmq/backend/cython/socket.pyx\u001b[0m in \u001b[0;36mzmq.backend.cython.socket.Socket.recv\u001b[0;34m()\u001b[0m\n",
            "\u001b[0;32mzmq/backend/cython/socket.pyx\u001b[0m in \u001b[0;36mzmq.backend.cython.socket._recv_copy\u001b[0;34m()\u001b[0m\n",
            "\u001b[0;32m/usr/local/lib/python3.6/dist-packages/zmq/backend/cython/checkrc.pxd\u001b[0m in \u001b[0;36mzmq.backend.cython.checkrc._check_rc\u001b[0;34m()\u001b[0m\n",
            "\u001b[0;31mKeyboardInterrupt\u001b[0m: ",
            "\nDuring handling of the above exception, another exception occurred:\n",
            "\u001b[0;31mKeyboardInterrupt\u001b[0m                         Traceback (most recent call last)",
            "\u001b[0;32m<ipython-input-8-d5df0069828e>\u001b[0m in \u001b[0;36m<module>\u001b[0;34m()\u001b[0m\n\u001b[1;32m      1\u001b[0m \u001b[0;32mfrom\u001b[0m \u001b[0mgoogle\u001b[0m\u001b[0;34m.\u001b[0m\u001b[0mcolab\u001b[0m \u001b[0;32mimport\u001b[0m \u001b[0mdrive\u001b[0m\u001b[0;34m\u001b[0m\u001b[0;34m\u001b[0m\u001b[0m\n\u001b[0;32m----> 2\u001b[0;31m \u001b[0mdrive\u001b[0m\u001b[0;34m.\u001b[0m\u001b[0mmount\u001b[0m\u001b[0;34m(\u001b[0m\u001b[0;34m'/content/drive'\u001b[0m\u001b[0;34m)\u001b[0m\u001b[0;34m\u001b[0m\u001b[0;34m\u001b[0m\u001b[0m\n\u001b[0m",
            "\u001b[0;32m/usr/local/lib/python3.6/dist-packages/google/colab/drive.py\u001b[0m in \u001b[0;36mmount\u001b[0;34m(mountpoint, force_remount, timeout_ms, use_metadata_server)\u001b[0m\n\u001b[1;32m    236\u001b[0m       \u001b[0mauth_prompt\u001b[0m \u001b[0;34m=\u001b[0m \u001b[0md\u001b[0m\u001b[0;34m.\u001b[0m\u001b[0mmatch\u001b[0m\u001b[0;34m.\u001b[0m\u001b[0mgroup\u001b[0m\u001b[0;34m(\u001b[0m\u001b[0;36m1\u001b[0m\u001b[0;34m)\u001b[0m \u001b[0;34m+\u001b[0m \u001b[0;34m'\\nEnter your authorization code:\\n'\u001b[0m\u001b[0;34m\u001b[0m\u001b[0;34m\u001b[0m\u001b[0m\n\u001b[1;32m    237\u001b[0m       \u001b[0;32mwith\u001b[0m \u001b[0mopen\u001b[0m\u001b[0;34m(\u001b[0m\u001b[0mfifo\u001b[0m\u001b[0;34m,\u001b[0m \u001b[0;34m'w'\u001b[0m\u001b[0;34m)\u001b[0m \u001b[0;32mas\u001b[0m \u001b[0mfifo_file\u001b[0m\u001b[0;34m:\u001b[0m\u001b[0;34m\u001b[0m\u001b[0;34m\u001b[0m\u001b[0m\n\u001b[0;32m--> 238\u001b[0;31m         \u001b[0mfifo_file\u001b[0m\u001b[0;34m.\u001b[0m\u001b[0mwrite\u001b[0m\u001b[0;34m(\u001b[0m\u001b[0m_getpass\u001b[0m\u001b[0;34m.\u001b[0m\u001b[0mgetpass\u001b[0m\u001b[0;34m(\u001b[0m\u001b[0mauth_prompt\u001b[0m\u001b[0;34m)\u001b[0m \u001b[0;34m+\u001b[0m \u001b[0;34m'\\n'\u001b[0m\u001b[0;34m)\u001b[0m\u001b[0;34m\u001b[0m\u001b[0;34m\u001b[0m\u001b[0m\n\u001b[0m\u001b[1;32m    239\u001b[0m       \u001b[0mwrote_to_fifo\u001b[0m \u001b[0;34m=\u001b[0m \u001b[0;32mTrue\u001b[0m\u001b[0;34m\u001b[0m\u001b[0;34m\u001b[0m\u001b[0m\n\u001b[1;32m    240\u001b[0m   \u001b[0;32mif\u001b[0m \u001b[0;32mnot\u001b[0m \u001b[0mwrote_to_fifo\u001b[0m\u001b[0;34m:\u001b[0m\u001b[0;34m\u001b[0m\u001b[0;34m\u001b[0m\u001b[0m\n",
            "\u001b[0;32m/usr/local/lib/python3.6/dist-packages/ipykernel/kernelbase.py\u001b[0m in \u001b[0;36mgetpass\u001b[0;34m(self, prompt, stream)\u001b[0m\n\u001b[1;32m    686\u001b[0m             \u001b[0mself\u001b[0m\u001b[0;34m.\u001b[0m\u001b[0m_parent_ident\u001b[0m\u001b[0;34m,\u001b[0m\u001b[0;34m\u001b[0m\u001b[0;34m\u001b[0m\u001b[0m\n\u001b[1;32m    687\u001b[0m             \u001b[0mself\u001b[0m\u001b[0;34m.\u001b[0m\u001b[0m_parent_header\u001b[0m\u001b[0;34m,\u001b[0m\u001b[0;34m\u001b[0m\u001b[0;34m\u001b[0m\u001b[0m\n\u001b[0;32m--> 688\u001b[0;31m             \u001b[0mpassword\u001b[0m\u001b[0;34m=\u001b[0m\u001b[0;32mTrue\u001b[0m\u001b[0;34m,\u001b[0m\u001b[0;34m\u001b[0m\u001b[0;34m\u001b[0m\u001b[0m\n\u001b[0m\u001b[1;32m    689\u001b[0m         )\n\u001b[1;32m    690\u001b[0m \u001b[0;34m\u001b[0m\u001b[0m\n",
            "\u001b[0;32m/usr/local/lib/python3.6/dist-packages/ipykernel/kernelbase.py\u001b[0m in \u001b[0;36m_input_request\u001b[0;34m(self, prompt, ident, parent, password)\u001b[0m\n\u001b[1;32m    733\u001b[0m             \u001b[0;32mexcept\u001b[0m \u001b[0mKeyboardInterrupt\u001b[0m\u001b[0;34m:\u001b[0m\u001b[0;34m\u001b[0m\u001b[0;34m\u001b[0m\u001b[0m\n\u001b[1;32m    734\u001b[0m                 \u001b[0;31m# re-raise KeyboardInterrupt, to truncate traceback\u001b[0m\u001b[0;34m\u001b[0m\u001b[0;34m\u001b[0m\u001b[0;34m\u001b[0m\u001b[0m\n\u001b[0;32m--> 735\u001b[0;31m                 \u001b[0;32mraise\u001b[0m \u001b[0mKeyboardInterrupt\u001b[0m\u001b[0;34m\u001b[0m\u001b[0;34m\u001b[0m\u001b[0m\n\u001b[0m\u001b[1;32m    736\u001b[0m             \u001b[0;32melse\u001b[0m\u001b[0;34m:\u001b[0m\u001b[0;34m\u001b[0m\u001b[0;34m\u001b[0m\u001b[0m\n\u001b[1;32m    737\u001b[0m                 \u001b[0;32mbreak\u001b[0m\u001b[0;34m\u001b[0m\u001b[0;34m\u001b[0m\u001b[0m\n",
            "\u001b[0;31mKeyboardInterrupt\u001b[0m: "
          ]
        }
      ]
    },
    {
      "cell_type": "code",
      "metadata": {
        "id": "IdpDOSxt-QFI",
        "colab_type": "code",
        "outputId": "ad0bdfdd-2d65-416d-932c-790b48d54aaf",
        "colab": {
          "base_uri": "https://localhost:8080/",
          "height": 34
        }
      },
      "source": [
        "drive.mount(\"/content/drive\", force_remount=True)"
      ],
      "execution_count": 0,
      "outputs": [
        {
          "output_type": "stream",
          "text": [
            "Mounted at /content/drive\n"
          ],
          "name": "stdout"
        }
      ]
    },
    {
      "cell_type": "code",
      "metadata": {
        "id": "2LGXD3D9YDfe",
        "colab_type": "code",
        "outputId": "2a29e4a0-e708-4f26-c071-3e3c485cf969",
        "colab": {
          "base_uri": "https://localhost:8080/",
          "height": 34
        }
      },
      "source": [
        "!cp drive/'My Drive'/TAGAN_data_zip.zip TAGAN_data_zip.zip"
      ],
      "execution_count": 0,
      "outputs": [
        {
          "output_type": "stream",
          "text": [
            "cp: cannot stat 'drive/My Drive/TAGAN_data_zip.zip': No such file or directory\n"
          ],
          "name": "stdout"
        }
      ]
    },
    {
      "cell_type": "code",
      "metadata": {
        "id": "8BFn2MjMaBiS",
        "colab_type": "code",
        "colab": {}
      },
      "source": [
        "!cp drive/'My Drive'/caption_embedding_all.pkl.zip caption_embedding_all.pkl.zip"
      ],
      "execution_count": 0,
      "outputs": []
    },
    {
      "cell_type": "code",
      "metadata": {
        "id": "RY3CELNe0taN",
        "colab_type": "code",
        "colab": {}
      },
      "source": [
        "#files that need to be uploaded: caption_embedding_all.pkl.zip, mini_TAGAN_data[1-40].zip (or TAGAN_data_zip.zip), cs-comps-GAN\n",
        "\n",
        "import zipfile"
      ],
      "execution_count": 0,
      "outputs": []
    },
    {
      "cell_type": "code",
      "metadata": {
        "id": "KM4wcsQXakQJ",
        "colab_type": "code",
        "outputId": "918c5440-56dc-4c04-a63c-4e8829cb6546",
        "colab": {
          "resources": {
            "http://localhost:8080/nbextensions/google.colab/files.js": {
              "data": "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",
              "ok": true,
              "headers": [
                [
                  "content-type",
                  "application/javascript"
                ]
              ],
              "status": 200,
              "status_text": ""
            }
          },
          "base_uri": "https://localhost:8080/",
          "height": 71
        }
      },
      "source": [
        "from google.colab import files\n",
        "uploaded = files.upload()\n",
        "# Use these if uploading data from local\n",
        "# uploaded2 = files.upload()\n",
        "# uploaded3 = files.upload()"
      ],
      "execution_count": 0,
      "outputs": [
        {
          "output_type": "display_data",
          "data": {
            "text/html": [
              "\n",
              "     <input type=\"file\" id=\"files-c056eda9-39b2-4aa4-8bed-a6a9579df015\" name=\"files[]\" multiple disabled />\n",
              "     <output id=\"result-c056eda9-39b2-4aa4-8bed-a6a9579df015\">\n",
              "      Upload widget is only available when the cell has been executed in the\n",
              "      current browser session. Please rerun this cell to enable.\n",
              "      </output>\n",
              "      <script src=\"/nbextensions/google.colab/files.js\"></script> "
            ],
            "text/plain": [
              "<IPython.core.display.HTML object>"
            ]
          },
          "metadata": {
            "tags": []
          }
        },
        {
          "output_type": "stream",
          "text": [
            "Saving cs-comps-GAN.zip to cs-comps-GAN.zip\n"
          ],
          "name": "stdout"
        }
      ]
    },
    {
      "cell_type": "code",
      "metadata": {
        "id": "_S9YXKp-KlNf",
        "colab_type": "code",
        "colab": {}
      },
      "source": [
        "with zipfile.ZipFile('cs-comps-GAN.zip', 'r') as zip_ref:\n",
        "    zip_ref.extractall()"
      ],
      "execution_count": 0,
      "outputs": []
    },
    {
      "cell_type": "code",
      "metadata": {
        "id": "a9xKWNkJQ4hY",
        "colab_type": "code",
        "colab": {}
      },
      "source": [
        "!mv cs-comps-GAN/* .\n",
        "!rm -r cs-comps-GAN\n",
        "!rm cs-comps-GAN.zip"
      ],
      "execution_count": 0,
      "outputs": []
    },
    {
      "cell_type": "code",
      "metadata": {
        "id": "O_hRIPUcxG2m",
        "colab_type": "code",
        "outputId": "cbb25330-d183-4c46-81b2-f2088fc5a56f",
        "colab": {
          "base_uri": "https://localhost:8080/",
          "height": 300
        }
      },
      "source": [
        "with zipfile.ZipFile('TAGAN_data_zip.zip', 'r') as zip_ref:\n",
        "    zip_ref.extractall()"
      ],
      "execution_count": 0,
      "outputs": [
        {
          "output_type": "error",
          "ename": "FileNotFoundError",
          "evalue": "ignored",
          "traceback": [
            "\u001b[0;31m---------------------------------------------------------------------------\u001b[0m",
            "\u001b[0;31mFileNotFoundError\u001b[0m                         Traceback (most recent call last)",
            "\u001b[0;32m<ipython-input-7-f1521506a640>\u001b[0m in \u001b[0;36m<module>\u001b[0;34m()\u001b[0m\n\u001b[0;32m----> 1\u001b[0;31m \u001b[0;32mwith\u001b[0m \u001b[0mzipfile\u001b[0m\u001b[0;34m.\u001b[0m\u001b[0mZipFile\u001b[0m\u001b[0;34m(\u001b[0m\u001b[0;34m'TAGAN_data_zip.zip'\u001b[0m\u001b[0;34m,\u001b[0m \u001b[0;34m'r'\u001b[0m\u001b[0;34m)\u001b[0m \u001b[0;32mas\u001b[0m \u001b[0mzip_ref\u001b[0m\u001b[0;34m:\u001b[0m\u001b[0;34m\u001b[0m\u001b[0;34m\u001b[0m\u001b[0m\n\u001b[0m\u001b[1;32m      2\u001b[0m     \u001b[0mzip_ref\u001b[0m\u001b[0;34m.\u001b[0m\u001b[0mextractall\u001b[0m\u001b[0;34m(\u001b[0m\u001b[0;34m)\u001b[0m\u001b[0;34m\u001b[0m\u001b[0;34m\u001b[0m\u001b[0m\n",
            "\u001b[0;32m/usr/lib/python3.6/zipfile.py\u001b[0m in \u001b[0;36m__init__\u001b[0;34m(self, file, mode, compression, allowZip64)\u001b[0m\n\u001b[1;32m   1111\u001b[0m             \u001b[0;32mwhile\u001b[0m \u001b[0;32mTrue\u001b[0m\u001b[0;34m:\u001b[0m\u001b[0;34m\u001b[0m\u001b[0;34m\u001b[0m\u001b[0m\n\u001b[1;32m   1112\u001b[0m                 \u001b[0;32mtry\u001b[0m\u001b[0;34m:\u001b[0m\u001b[0;34m\u001b[0m\u001b[0;34m\u001b[0m\u001b[0m\n\u001b[0;32m-> 1113\u001b[0;31m                     \u001b[0mself\u001b[0m\u001b[0;34m.\u001b[0m\u001b[0mfp\u001b[0m \u001b[0;34m=\u001b[0m \u001b[0mio\u001b[0m\u001b[0;34m.\u001b[0m\u001b[0mopen\u001b[0m\u001b[0;34m(\u001b[0m\u001b[0mfile\u001b[0m\u001b[0;34m,\u001b[0m \u001b[0mfilemode\u001b[0m\u001b[0;34m)\u001b[0m\u001b[0;34m\u001b[0m\u001b[0;34m\u001b[0m\u001b[0m\n\u001b[0m\u001b[1;32m   1114\u001b[0m                 \u001b[0;32mexcept\u001b[0m \u001b[0mOSError\u001b[0m\u001b[0;34m:\u001b[0m\u001b[0;34m\u001b[0m\u001b[0;34m\u001b[0m\u001b[0m\n\u001b[1;32m   1115\u001b[0m                     \u001b[0;32mif\u001b[0m \u001b[0mfilemode\u001b[0m \u001b[0;32min\u001b[0m \u001b[0mmodeDict\u001b[0m\u001b[0;34m:\u001b[0m\u001b[0;34m\u001b[0m\u001b[0;34m\u001b[0m\u001b[0m\n",
            "\u001b[0;31mFileNotFoundError\u001b[0m: [Errno 2] No such file or directory: 'TAGAN_data_zip.zip'"
          ]
        }
      ]
    },
    {
      "cell_type": "code",
      "metadata": {
        "id": "AGhs7TCcPbKk",
        "colab_type": "code",
        "colab": {}
      },
      "source": [
        "for i in range(1,41):\n",
        "  file_name = 'mini_TAGAN_data_' + str(i) + '.zip'\n",
        "  with zipfile.ZipFile(file_name, 'r') as zip_ref:\n",
        "    zip_ref.extractall()"
      ],
      "execution_count": 0,
      "outputs": []
    },
    {
      "cell_type": "code",
      "metadata": {
        "id": "6CqhkyfQpJq5",
        "colab_type": "code",
        "outputId": "396887fe-c178-4ad9-e3cb-029424a7b1ab",
        "colab": {
          "base_uri": "https://localhost:8080/",
          "height": 324
        }
      },
      "source": [
        "# Currently nonfunctional - use block below instead\n",
        "# with zipfile.ZipFile('caption_embedding_all.pkl.zip', 'r') as zip_ref:\n",
        "#   zip_ref.extractall()"
      ],
      "execution_count": 0,
      "outputs": [
        {
          "output_type": "error",
          "ename": "BadZipFile",
          "evalue": "ignored",
          "traceback": [
            "\u001b[0;31m---------------------------------------------------------------------------\u001b[0m",
            "\u001b[0;31mBadZipFile\u001b[0m                                Traceback (most recent call last)",
            "\u001b[0;32m<ipython-input-12-3505b308c90d>\u001b[0m in \u001b[0;36m<module>\u001b[0;34m()\u001b[0m\n\u001b[1;32m      1\u001b[0m \u001b[0;32mwith\u001b[0m \u001b[0mzipfile\u001b[0m\u001b[0;34m.\u001b[0m\u001b[0mZipFile\u001b[0m\u001b[0;34m(\u001b[0m\u001b[0;34m'caption_embedding_all.pkl.zip'\u001b[0m\u001b[0;34m,\u001b[0m \u001b[0;34m'r'\u001b[0m\u001b[0;34m)\u001b[0m \u001b[0;32mas\u001b[0m \u001b[0mzip_ref\u001b[0m\u001b[0;34m:\u001b[0m\u001b[0;34m\u001b[0m\u001b[0;34m\u001b[0m\u001b[0m\n\u001b[0;32m----> 2\u001b[0;31m   \u001b[0mzip_ref\u001b[0m\u001b[0;34m.\u001b[0m\u001b[0mextractall\u001b[0m\u001b[0;34m(\u001b[0m\u001b[0;34m)\u001b[0m\u001b[0;34m\u001b[0m\u001b[0;34m\u001b[0m\u001b[0m\n\u001b[0m",
            "\u001b[0;32m/usr/lib/python3.6/zipfile.py\u001b[0m in \u001b[0;36mextractall\u001b[0;34m(self, path, members, pwd)\u001b[0m\n\u001b[1;32m   1522\u001b[0m \u001b[0;34m\u001b[0m\u001b[0m\n\u001b[1;32m   1523\u001b[0m         \u001b[0;32mfor\u001b[0m \u001b[0mzipinfo\u001b[0m \u001b[0;32min\u001b[0m \u001b[0mmembers\u001b[0m\u001b[0;34m:\u001b[0m\u001b[0;34m\u001b[0m\u001b[0;34m\u001b[0m\u001b[0m\n\u001b[0;32m-> 1524\u001b[0;31m             \u001b[0mself\u001b[0m\u001b[0;34m.\u001b[0m\u001b[0m_extract_member\u001b[0m\u001b[0;34m(\u001b[0m\u001b[0mzipinfo\u001b[0m\u001b[0;34m,\u001b[0m \u001b[0mpath\u001b[0m\u001b[0;34m,\u001b[0m \u001b[0mpwd\u001b[0m\u001b[0;34m)\u001b[0m\u001b[0;34m\u001b[0m\u001b[0;34m\u001b[0m\u001b[0m\n\u001b[0m\u001b[1;32m   1525\u001b[0m \u001b[0;34m\u001b[0m\u001b[0m\n\u001b[1;32m   1526\u001b[0m     \u001b[0;34m@\u001b[0m\u001b[0mclassmethod\u001b[0m\u001b[0;34m\u001b[0m\u001b[0;34m\u001b[0m\u001b[0m\n",
            "\u001b[0;32m/usr/lib/python3.6/zipfile.py\u001b[0m in \u001b[0;36m_extract_member\u001b[0;34m(self, member, targetpath, pwd)\u001b[0m\n\u001b[1;32m   1577\u001b[0m         \u001b[0;32mwith\u001b[0m \u001b[0mself\u001b[0m\u001b[0;34m.\u001b[0m\u001b[0mopen\u001b[0m\u001b[0;34m(\u001b[0m\u001b[0mmember\u001b[0m\u001b[0;34m,\u001b[0m \u001b[0mpwd\u001b[0m\u001b[0;34m=\u001b[0m\u001b[0mpwd\u001b[0m\u001b[0;34m)\u001b[0m \u001b[0;32mas\u001b[0m \u001b[0msource\u001b[0m\u001b[0;34m,\u001b[0m\u001b[0;31m \u001b[0m\u001b[0;31m\\\u001b[0m\u001b[0;34m\u001b[0m\u001b[0;34m\u001b[0m\u001b[0m\n\u001b[1;32m   1578\u001b[0m              \u001b[0mopen\u001b[0m\u001b[0;34m(\u001b[0m\u001b[0mtargetpath\u001b[0m\u001b[0;34m,\u001b[0m \u001b[0;34m\"wb\"\u001b[0m\u001b[0;34m)\u001b[0m \u001b[0;32mas\u001b[0m \u001b[0mtarget\u001b[0m\u001b[0;34m:\u001b[0m\u001b[0;34m\u001b[0m\u001b[0;34m\u001b[0m\u001b[0m\n\u001b[0;32m-> 1579\u001b[0;31m             \u001b[0mshutil\u001b[0m\u001b[0;34m.\u001b[0m\u001b[0mcopyfileobj\u001b[0m\u001b[0;34m(\u001b[0m\u001b[0msource\u001b[0m\u001b[0;34m,\u001b[0m \u001b[0mtarget\u001b[0m\u001b[0;34m)\u001b[0m\u001b[0;34m\u001b[0m\u001b[0;34m\u001b[0m\u001b[0m\n\u001b[0m\u001b[1;32m   1580\u001b[0m \u001b[0;34m\u001b[0m\u001b[0m\n\u001b[1;32m   1581\u001b[0m         \u001b[0;32mreturn\u001b[0m \u001b[0mtargetpath\u001b[0m\u001b[0;34m\u001b[0m\u001b[0;34m\u001b[0m\u001b[0m\n",
            "\u001b[0;32m/usr/lib/python3.6/shutil.py\u001b[0m in \u001b[0;36mcopyfileobj\u001b[0;34m(fsrc, fdst, length)\u001b[0m\n\u001b[1;32m     77\u001b[0m     \u001b[0;34m\"\"\"copy data from file-like object fsrc to file-like object fdst\"\"\"\u001b[0m\u001b[0;34m\u001b[0m\u001b[0;34m\u001b[0m\u001b[0m\n\u001b[1;32m     78\u001b[0m     \u001b[0;32mwhile\u001b[0m \u001b[0;36m1\u001b[0m\u001b[0;34m:\u001b[0m\u001b[0;34m\u001b[0m\u001b[0;34m\u001b[0m\u001b[0m\n\u001b[0;32m---> 79\u001b[0;31m         \u001b[0mbuf\u001b[0m \u001b[0;34m=\u001b[0m \u001b[0mfsrc\u001b[0m\u001b[0;34m.\u001b[0m\u001b[0mread\u001b[0m\u001b[0;34m(\u001b[0m\u001b[0mlength\u001b[0m\u001b[0;34m)\u001b[0m\u001b[0;34m\u001b[0m\u001b[0;34m\u001b[0m\u001b[0m\n\u001b[0m\u001b[1;32m     80\u001b[0m         \u001b[0;32mif\u001b[0m \u001b[0;32mnot\u001b[0m \u001b[0mbuf\u001b[0m\u001b[0;34m:\u001b[0m\u001b[0;34m\u001b[0m\u001b[0;34m\u001b[0m\u001b[0m\n\u001b[1;32m     81\u001b[0m             \u001b[0;32mbreak\u001b[0m\u001b[0;34m\u001b[0m\u001b[0;34m\u001b[0m\u001b[0m\n",
            "\u001b[0;32m/usr/lib/python3.6/zipfile.py\u001b[0m in \u001b[0;36mread\u001b[0;34m(self, n)\u001b[0m\n\u001b[1;32m    870\u001b[0m         \u001b[0mself\u001b[0m\u001b[0;34m.\u001b[0m\u001b[0m_offset\u001b[0m \u001b[0;34m=\u001b[0m \u001b[0;36m0\u001b[0m\u001b[0;34m\u001b[0m\u001b[0;34m\u001b[0m\u001b[0m\n\u001b[1;32m    871\u001b[0m         \u001b[0;32mwhile\u001b[0m \u001b[0mn\u001b[0m \u001b[0;34m>\u001b[0m \u001b[0;36m0\u001b[0m \u001b[0;32mand\u001b[0m \u001b[0;32mnot\u001b[0m \u001b[0mself\u001b[0m\u001b[0;34m.\u001b[0m\u001b[0m_eof\u001b[0m\u001b[0;34m:\u001b[0m\u001b[0;34m\u001b[0m\u001b[0;34m\u001b[0m\u001b[0m\n\u001b[0;32m--> 872\u001b[0;31m             \u001b[0mdata\u001b[0m \u001b[0;34m=\u001b[0m \u001b[0mself\u001b[0m\u001b[0;34m.\u001b[0m\u001b[0m_read1\u001b[0m\u001b[0;34m(\u001b[0m\u001b[0mn\u001b[0m\u001b[0;34m)\u001b[0m\u001b[0;34m\u001b[0m\u001b[0;34m\u001b[0m\u001b[0m\n\u001b[0m\u001b[1;32m    873\u001b[0m             \u001b[0;32mif\u001b[0m \u001b[0mn\u001b[0m \u001b[0;34m<\u001b[0m \u001b[0mlen\u001b[0m\u001b[0;34m(\u001b[0m\u001b[0mdata\u001b[0m\u001b[0;34m)\u001b[0m\u001b[0;34m:\u001b[0m\u001b[0;34m\u001b[0m\u001b[0;34m\u001b[0m\u001b[0m\n\u001b[1;32m    874\u001b[0m                 \u001b[0mself\u001b[0m\u001b[0;34m.\u001b[0m\u001b[0m_readbuffer\u001b[0m \u001b[0;34m=\u001b[0m \u001b[0mdata\u001b[0m\u001b[0;34m\u001b[0m\u001b[0;34m\u001b[0m\u001b[0m\n",
            "\u001b[0;32m/usr/lib/python3.6/zipfile.py\u001b[0m in \u001b[0;36m_read1\u001b[0;34m(self, n)\u001b[0m\n\u001b[1;32m    960\u001b[0m         \u001b[0;32mif\u001b[0m \u001b[0mself\u001b[0m\u001b[0;34m.\u001b[0m\u001b[0m_left\u001b[0m \u001b[0;34m<=\u001b[0m \u001b[0;36m0\u001b[0m\u001b[0;34m:\u001b[0m\u001b[0;34m\u001b[0m\u001b[0;34m\u001b[0m\u001b[0m\n\u001b[1;32m    961\u001b[0m             \u001b[0mself\u001b[0m\u001b[0;34m.\u001b[0m\u001b[0m_eof\u001b[0m \u001b[0;34m=\u001b[0m \u001b[0;32mTrue\u001b[0m\u001b[0;34m\u001b[0m\u001b[0;34m\u001b[0m\u001b[0m\n\u001b[0;32m--> 962\u001b[0;31m         \u001b[0mself\u001b[0m\u001b[0;34m.\u001b[0m\u001b[0m_update_crc\u001b[0m\u001b[0;34m(\u001b[0m\u001b[0mdata\u001b[0m\u001b[0;34m)\u001b[0m\u001b[0;34m\u001b[0m\u001b[0;34m\u001b[0m\u001b[0m\n\u001b[0m\u001b[1;32m    963\u001b[0m         \u001b[0;32mreturn\u001b[0m \u001b[0mdata\u001b[0m\u001b[0;34m\u001b[0m\u001b[0;34m\u001b[0m\u001b[0m\n\u001b[1;32m    964\u001b[0m \u001b[0;34m\u001b[0m\u001b[0m\n",
            "\u001b[0;32m/usr/lib/python3.6/zipfile.py\u001b[0m in \u001b[0;36m_update_crc\u001b[0;34m(self, newdata)\u001b[0m\n\u001b[1;32m    888\u001b[0m         \u001b[0;31m# Check the CRC if we're at the end of the file\u001b[0m\u001b[0;34m\u001b[0m\u001b[0;34m\u001b[0m\u001b[0;34m\u001b[0m\u001b[0m\n\u001b[1;32m    889\u001b[0m         \u001b[0;32mif\u001b[0m \u001b[0mself\u001b[0m\u001b[0;34m.\u001b[0m\u001b[0m_eof\u001b[0m \u001b[0;32mand\u001b[0m \u001b[0mself\u001b[0m\u001b[0;34m.\u001b[0m\u001b[0m_running_crc\u001b[0m \u001b[0;34m!=\u001b[0m \u001b[0mself\u001b[0m\u001b[0;34m.\u001b[0m\u001b[0m_expected_crc\u001b[0m\u001b[0;34m:\u001b[0m\u001b[0;34m\u001b[0m\u001b[0;34m\u001b[0m\u001b[0m\n\u001b[0;32m--> 890\u001b[0;31m             \u001b[0;32mraise\u001b[0m \u001b[0mBadZipFile\u001b[0m\u001b[0;34m(\u001b[0m\u001b[0;34m\"Bad CRC-32 for file %r\"\u001b[0m \u001b[0;34m%\u001b[0m \u001b[0mself\u001b[0m\u001b[0;34m.\u001b[0m\u001b[0mname\u001b[0m\u001b[0;34m)\u001b[0m\u001b[0;34m\u001b[0m\u001b[0;34m\u001b[0m\u001b[0m\n\u001b[0m\u001b[1;32m    891\u001b[0m \u001b[0;34m\u001b[0m\u001b[0m\n\u001b[1;32m    892\u001b[0m     \u001b[0;32mdef\u001b[0m \u001b[0mread1\u001b[0m\u001b[0;34m(\u001b[0m\u001b[0mself\u001b[0m\u001b[0;34m,\u001b[0m \u001b[0mn\u001b[0m\u001b[0;34m)\u001b[0m\u001b[0;34m:\u001b[0m\u001b[0;34m\u001b[0m\u001b[0;34m\u001b[0m\u001b[0m\n",
            "\u001b[0;31mBadZipFile\u001b[0m: Bad CRC-32 for file 'caption_embedding_all.pkl'"
          ]
        }
      ]
    },
    {
      "cell_type": "code",
      "metadata": {
        "id": "DURrVNVSuNyQ",
        "colab_type": "code",
        "outputId": "bc967025-ab63-4770-e554-6a912e2d1def",
        "colab": {
          "base_uri": "https://localhost:8080/",
          "height": 54
        }
      },
      "source": [
        "!unzip caption_embedding_all.pkl.zip"
      ],
      "execution_count": 0,
      "outputs": [
        {
          "output_type": "stream",
          "text": [
            "unzip:  cannot find or open caption_embedding_all.pkl.zip, caption_embedding_all.pkl.zip.zip or caption_embedding_all.pkl.zip.ZIP.\n"
          ],
          "name": "stdout"
        }
      ]
    },
    {
      "cell_type": "code",
      "metadata": {
        "id": "S3Ac0yj-i3Cc",
        "colab_type": "code",
        "colab": {}
      },
      "source": [
        "!rm *zip"
      ],
      "execution_count": 0,
      "outputs": []
    },
    {
      "cell_type": "code",
      "metadata": {
        "id": "ph9BnYGTj9RA",
        "colab_type": "code",
        "colab": {}
      },
      "source": [
        "!mkdir TAGAN_data\n",
        "!mkdir TAGAN_data/images\n",
        "!mkdir TAGAN_data/text_c10"
      ],
      "execution_count": 0,
      "outputs": []
    },
    {
      "cell_type": "code",
      "metadata": {
        "id": "X-amgUPZkC13",
        "colab_type": "code",
        "outputId": "95022d86-0af5-4a75-c8a2-db7d11054e3f",
        "colab": {
          "base_uri": "https://localhost:8080/",
          "height": 1000
        }
      },
      "source": [
        "!mv  -v mini_TAGAN_data_*/images/* TAGAN_data/images\n",
        "!mv  -v mini_TAGAN_data_*/text_c10/* TAGAN_data/text_c10\n",
        "!mv mini_TAGAN_data_1/classes.txt TAGAN_data/\n",
        "!rm -r mini*"
      ],
      "execution_count": 0,
      "outputs": [
        {
          "output_type": "stream",
          "text": [
            "renamed 'mini_TAGAN_data_10/images/046.Gadwall' -> 'TAGAN_data/images/046.Gadwall'\n",
            "renamed 'mini_TAGAN_data_10/images/047.American_Goldfinch' -> 'TAGAN_data/images/047.American_Goldfinch'\n",
            "renamed 'mini_TAGAN_data_10/images/048.European_Goldfinch' -> 'TAGAN_data/images/048.European_Goldfinch'\n",
            "renamed 'mini_TAGAN_data_10/images/049.Boat_tailed_Grackle' -> 'TAGAN_data/images/049.Boat_tailed_Grackle'\n",
            "renamed 'mini_TAGAN_data_10/images/050.Eared_Grebe' -> 'TAGAN_data/images/050.Eared_Grebe'\n",
            "renamed 'mini_TAGAN_data_11/images/051.Horned_Grebe' -> 'TAGAN_data/images/051.Horned_Grebe'\n",
            "renamed 'mini_TAGAN_data_11/images/052.Pied_billed_Grebe' -> 'TAGAN_data/images/052.Pied_billed_Grebe'\n",
            "renamed 'mini_TAGAN_data_11/images/053.Western_Grebe' -> 'TAGAN_data/images/053.Western_Grebe'\n",
            "renamed 'mini_TAGAN_data_11/images/054.Blue_Grosbeak' -> 'TAGAN_data/images/054.Blue_Grosbeak'\n",
            "renamed 'mini_TAGAN_data_11/images/055.Evening_Grosbeak' -> 'TAGAN_data/images/055.Evening_Grosbeak'\n",
            "renamed 'mini_TAGAN_data_12/images/056.Pine_Grosbeak' -> 'TAGAN_data/images/056.Pine_Grosbeak'\n",
            "renamed 'mini_TAGAN_data_12/images/057.Rose_breasted_Grosbeak' -> 'TAGAN_data/images/057.Rose_breasted_Grosbeak'\n",
            "renamed 'mini_TAGAN_data_12/images/058.Pigeon_Guillemot' -> 'TAGAN_data/images/058.Pigeon_Guillemot'\n",
            "renamed 'mini_TAGAN_data_12/images/059.California_Gull' -> 'TAGAN_data/images/059.California_Gull'\n",
            "renamed 'mini_TAGAN_data_12/images/060.Glaucous_winged_Gull' -> 'TAGAN_data/images/060.Glaucous_winged_Gull'\n",
            "renamed 'mini_TAGAN_data_13/images/061.Heermann_Gull' -> 'TAGAN_data/images/061.Heermann_Gull'\n",
            "renamed 'mini_TAGAN_data_13/images/062.Herring_Gull' -> 'TAGAN_data/images/062.Herring_Gull'\n",
            "renamed 'mini_TAGAN_data_13/images/063.Ivory_Gull' -> 'TAGAN_data/images/063.Ivory_Gull'\n",
            "renamed 'mini_TAGAN_data_13/images/064.Ring_billed_Gull' -> 'TAGAN_data/images/064.Ring_billed_Gull'\n",
            "renamed 'mini_TAGAN_data_13/images/065.Slaty_backed_Gull' -> 'TAGAN_data/images/065.Slaty_backed_Gull'\n",
            "renamed 'mini_TAGAN_data_14/images/066.Western_Gull' -> 'TAGAN_data/images/066.Western_Gull'\n",
            "renamed 'mini_TAGAN_data_14/images/067.Anna_Hummingbird' -> 'TAGAN_data/images/067.Anna_Hummingbird'\n",
            "renamed 'mini_TAGAN_data_14/images/068.Ruby_throated_Hummingbird' -> 'TAGAN_data/images/068.Ruby_throated_Hummingbird'\n",
            "renamed 'mini_TAGAN_data_14/images/069.Rufous_Hummingbird' -> 'TAGAN_data/images/069.Rufous_Hummingbird'\n",
            "renamed 'mini_TAGAN_data_14/images/070.Green_Violetear' -> 'TAGAN_data/images/070.Green_Violetear'\n",
            "renamed 'mini_TAGAN_data_15/images/071.Long_tailed_Jaeger' -> 'TAGAN_data/images/071.Long_tailed_Jaeger'\n",
            "renamed 'mini_TAGAN_data_15/images/072.Pomarine_Jaeger' -> 'TAGAN_data/images/072.Pomarine_Jaeger'\n",
            "renamed 'mini_TAGAN_data_15/images/073.Blue_Jay' -> 'TAGAN_data/images/073.Blue_Jay'\n",
            "renamed 'mini_TAGAN_data_15/images/074.Florida_Jay' -> 'TAGAN_data/images/074.Florida_Jay'\n",
            "renamed 'mini_TAGAN_data_15/images/075.Green_Jay' -> 'TAGAN_data/images/075.Green_Jay'\n",
            "renamed 'mini_TAGAN_data_16/images/076.Dark_eyed_Junco' -> 'TAGAN_data/images/076.Dark_eyed_Junco'\n",
            "renamed 'mini_TAGAN_data_16/images/077.Tropical_Kingbird' -> 'TAGAN_data/images/077.Tropical_Kingbird'\n",
            "renamed 'mini_TAGAN_data_16/images/078.Gray_Kingbird' -> 'TAGAN_data/images/078.Gray_Kingbird'\n",
            "renamed 'mini_TAGAN_data_16/images/079.Belted_Kingfisher' -> 'TAGAN_data/images/079.Belted_Kingfisher'\n",
            "renamed 'mini_TAGAN_data_16/images/080.Green_Kingfisher' -> 'TAGAN_data/images/080.Green_Kingfisher'\n",
            "renamed 'mini_TAGAN_data_17/images/081.Pied_Kingfisher' -> 'TAGAN_data/images/081.Pied_Kingfisher'\n",
            "renamed 'mini_TAGAN_data_17/images/082.Ringed_Kingfisher' -> 'TAGAN_data/images/082.Ringed_Kingfisher'\n",
            "renamed 'mini_TAGAN_data_17/images/083.White_breasted_Kingfisher' -> 'TAGAN_data/images/083.White_breasted_Kingfisher'\n",
            "renamed 'mini_TAGAN_data_17/images/084.Red_legged_Kittiwake' -> 'TAGAN_data/images/084.Red_legged_Kittiwake'\n",
            "renamed 'mini_TAGAN_data_17/images/085.Horned_Lark' -> 'TAGAN_data/images/085.Horned_Lark'\n",
            "renamed 'mini_TAGAN_data_18/images/086.Pacific_Loon' -> 'TAGAN_data/images/086.Pacific_Loon'\n",
            "renamed 'mini_TAGAN_data_18/images/087.Mallard' -> 'TAGAN_data/images/087.Mallard'\n",
            "renamed 'mini_TAGAN_data_18/images/088.Western_Meadowlark' -> 'TAGAN_data/images/088.Western_Meadowlark'\n",
            "renamed 'mini_TAGAN_data_18/images/089.Hooded_Merganser' -> 'TAGAN_data/images/089.Hooded_Merganser'\n",
            "renamed 'mini_TAGAN_data_18/images/090.Red_breasted_Merganser' -> 'TAGAN_data/images/090.Red_breasted_Merganser'\n",
            "renamed 'mini_TAGAN_data_19/images/091.Mockingbird' -> 'TAGAN_data/images/091.Mockingbird'\n",
            "renamed 'mini_TAGAN_data_19/images/092.Nighthawk' -> 'TAGAN_data/images/092.Nighthawk'\n",
            "renamed 'mini_TAGAN_data_19/images/093.Clark_Nutcracker' -> 'TAGAN_data/images/093.Clark_Nutcracker'\n",
            "renamed 'mini_TAGAN_data_19/images/094.White_breasted_Nuthatch' -> 'TAGAN_data/images/094.White_breasted_Nuthatch'\n",
            "renamed 'mini_TAGAN_data_19/images/095.Baltimore_Oriole' -> 'TAGAN_data/images/095.Baltimore_Oriole'\n",
            "renamed 'mini_TAGAN_data_1/images/001.Black_footed_Albatross' -> 'TAGAN_data/images/001.Black_footed_Albatross'\n",
            "renamed 'mini_TAGAN_data_1/images/002.Laysan_Albatross' -> 'TAGAN_data/images/002.Laysan_Albatross'\n",
            "renamed 'mini_TAGAN_data_1/images/003.Sooty_Albatross' -> 'TAGAN_data/images/003.Sooty_Albatross'\n",
            "renamed 'mini_TAGAN_data_1/images/004.Groove_billed_Ani' -> 'TAGAN_data/images/004.Groove_billed_Ani'\n",
            "renamed 'mini_TAGAN_data_1/images/005.Crested_Auklet' -> 'TAGAN_data/images/005.Crested_Auklet'\n",
            "renamed 'mini_TAGAN_data_20/images/096.Hooded_Oriole' -> 'TAGAN_data/images/096.Hooded_Oriole'\n",
            "renamed 'mini_TAGAN_data_20/images/097.Orchard_Oriole' -> 'TAGAN_data/images/097.Orchard_Oriole'\n",
            "renamed 'mini_TAGAN_data_20/images/098.Scott_Oriole' -> 'TAGAN_data/images/098.Scott_Oriole'\n",
            "renamed 'mini_TAGAN_data_20/images/099.Ovenbird' -> 'TAGAN_data/images/099.Ovenbird'\n",
            "renamed 'mini_TAGAN_data_20/images/100.Brown_Pelican' -> 'TAGAN_data/images/100.Brown_Pelican'\n",
            "renamed 'mini_TAGAN_data_21/images/101.White_Pelican' -> 'TAGAN_data/images/101.White_Pelican'\n",
            "renamed 'mini_TAGAN_data_21/images/102.Western_Wood_Pewee' -> 'TAGAN_data/images/102.Western_Wood_Pewee'\n",
            "renamed 'mini_TAGAN_data_21/images/103.Sayornis' -> 'TAGAN_data/images/103.Sayornis'\n",
            "renamed 'mini_TAGAN_data_21/images/104.American_Pipit' -> 'TAGAN_data/images/104.American_Pipit'\n",
            "renamed 'mini_TAGAN_data_21/images/105.Whip_poor_Will' -> 'TAGAN_data/images/105.Whip_poor_Will'\n",
            "renamed 'mini_TAGAN_data_22/images/106.Horned_Puffin' -> 'TAGAN_data/images/106.Horned_Puffin'\n",
            "renamed 'mini_TAGAN_data_22/images/107.Common_Raven' -> 'TAGAN_data/images/107.Common_Raven'\n",
            "renamed 'mini_TAGAN_data_22/images/108.White_necked_Raven' -> 'TAGAN_data/images/108.White_necked_Raven'\n",
            "renamed 'mini_TAGAN_data_22/images/109.American_Redstart' -> 'TAGAN_data/images/109.American_Redstart'\n",
            "renamed 'mini_TAGAN_data_22/images/110.Geococcyx' -> 'TAGAN_data/images/110.Geococcyx'\n",
            "renamed 'mini_TAGAN_data_23/images/111.Loggerhead_Shrike' -> 'TAGAN_data/images/111.Loggerhead_Shrike'\n",
            "renamed 'mini_TAGAN_data_23/images/112.Great_Grey_Shrike' -> 'TAGAN_data/images/112.Great_Grey_Shrike'\n",
            "renamed 'mini_TAGAN_data_23/images/113.Baird_Sparrow' -> 'TAGAN_data/images/113.Baird_Sparrow'\n",
            "renamed 'mini_TAGAN_data_23/images/114.Black_throated_Sparrow' -> 'TAGAN_data/images/114.Black_throated_Sparrow'\n",
            "renamed 'mini_TAGAN_data_23/images/115.Brewer_Sparrow' -> 'TAGAN_data/images/115.Brewer_Sparrow'\n",
            "renamed 'mini_TAGAN_data_24/images/116.Chipping_Sparrow' -> 'TAGAN_data/images/116.Chipping_Sparrow'\n",
            "renamed 'mini_TAGAN_data_24/images/117.Clay_colored_Sparrow' -> 'TAGAN_data/images/117.Clay_colored_Sparrow'\n",
            "renamed 'mini_TAGAN_data_24/images/118.House_Sparrow' -> 'TAGAN_data/images/118.House_Sparrow'\n",
            "renamed 'mini_TAGAN_data_24/images/119.Field_Sparrow' -> 'TAGAN_data/images/119.Field_Sparrow'\n",
            "renamed 'mini_TAGAN_data_24/images/120.Fox_Sparrow' -> 'TAGAN_data/images/120.Fox_Sparrow'\n",
            "renamed 'mini_TAGAN_data_25/images/121.Grasshopper_Sparrow' -> 'TAGAN_data/images/121.Grasshopper_Sparrow'\n",
            "renamed 'mini_TAGAN_data_25/images/122.Harris_Sparrow' -> 'TAGAN_data/images/122.Harris_Sparrow'\n",
            "renamed 'mini_TAGAN_data_25/images/123.Henslow_Sparrow' -> 'TAGAN_data/images/123.Henslow_Sparrow'\n",
            "renamed 'mini_TAGAN_data_25/images/124.Le_Conte_Sparrow' -> 'TAGAN_data/images/124.Le_Conte_Sparrow'\n",
            "renamed 'mini_TAGAN_data_25/images/125.Lincoln_Sparrow' -> 'TAGAN_data/images/125.Lincoln_Sparrow'\n",
            "renamed 'mini_TAGAN_data_26/images/126.Nelson_Sharp_tailed_Sparrow' -> 'TAGAN_data/images/126.Nelson_Sharp_tailed_Sparrow'\n",
            "renamed 'mini_TAGAN_data_26/images/127.Savannah_Sparrow' -> 'TAGAN_data/images/127.Savannah_Sparrow'\n",
            "renamed 'mini_TAGAN_data_26/images/128.Seaside_Sparrow' -> 'TAGAN_data/images/128.Seaside_Sparrow'\n",
            "renamed 'mini_TAGAN_data_26/images/129.Song_Sparrow' -> 'TAGAN_data/images/129.Song_Sparrow'\n",
            "renamed 'mini_TAGAN_data_26/images/130.Tree_Sparrow' -> 'TAGAN_data/images/130.Tree_Sparrow'\n",
            "renamed 'mini_TAGAN_data_27/images/131.Vesper_Sparrow' -> 'TAGAN_data/images/131.Vesper_Sparrow'\n",
            "renamed 'mini_TAGAN_data_27/images/132.White_crowned_Sparrow' -> 'TAGAN_data/images/132.White_crowned_Sparrow'\n",
            "renamed 'mini_TAGAN_data_27/images/133.White_throated_Sparrow' -> 'TAGAN_data/images/133.White_throated_Sparrow'\n",
            "renamed 'mini_TAGAN_data_27/images/134.Cape_Glossy_Starling' -> 'TAGAN_data/images/134.Cape_Glossy_Starling'\n",
            "renamed 'mini_TAGAN_data_27/images/135.Bank_Swallow' -> 'TAGAN_data/images/135.Bank_Swallow'\n",
            "renamed 'mini_TAGAN_data_28/images/136.Barn_Swallow' -> 'TAGAN_data/images/136.Barn_Swallow'\n",
            "renamed 'mini_TAGAN_data_28/images/137.Cliff_Swallow' -> 'TAGAN_data/images/137.Cliff_Swallow'\n",
            "renamed 'mini_TAGAN_data_28/images/138.Tree_Swallow' -> 'TAGAN_data/images/138.Tree_Swallow'\n",
            "renamed 'mini_TAGAN_data_28/images/139.Scarlet_Tanager' -> 'TAGAN_data/images/139.Scarlet_Tanager'\n",
            "renamed 'mini_TAGAN_data_28/images/140.Summer_Tanager' -> 'TAGAN_data/images/140.Summer_Tanager'\n",
            "renamed 'mini_TAGAN_data_29/images/141.Artic_Tern' -> 'TAGAN_data/images/141.Artic_Tern'\n",
            "renamed 'mini_TAGAN_data_29/images/142.Black_Tern' -> 'TAGAN_data/images/142.Black_Tern'\n",
            "renamed 'mini_TAGAN_data_29/images/143.Caspian_Tern' -> 'TAGAN_data/images/143.Caspian_Tern'\n",
            "renamed 'mini_TAGAN_data_29/images/144.Common_Tern' -> 'TAGAN_data/images/144.Common_Tern'\n",
            "renamed 'mini_TAGAN_data_29/images/145.Elegant_Tern' -> 'TAGAN_data/images/145.Elegant_Tern'\n",
            "renamed 'mini_TAGAN_data_2/images/006.Least_Auklet' -> 'TAGAN_data/images/006.Least_Auklet'\n",
            "renamed 'mini_TAGAN_data_2/images/007.Parakeet_Auklet' -> 'TAGAN_data/images/007.Parakeet_Auklet'\n",
            "renamed 'mini_TAGAN_data_2/images/008.Rhinoceros_Auklet' -> 'TAGAN_data/images/008.Rhinoceros_Auklet'\n",
            "renamed 'mini_TAGAN_data_2/images/009.Brewer_Blackbird' -> 'TAGAN_data/images/009.Brewer_Blackbird'\n",
            "renamed 'mini_TAGAN_data_2/images/010.Red_winged_Blackbird' -> 'TAGAN_data/images/010.Red_winged_Blackbird'\n",
            "renamed 'mini_TAGAN_data_30/images/146.Forsters_Tern' -> 'TAGAN_data/images/146.Forsters_Tern'\n",
            "renamed 'mini_TAGAN_data_30/images/147.Least_Tern' -> 'TAGAN_data/images/147.Least_Tern'\n",
            "renamed 'mini_TAGAN_data_30/images/148.Green_tailed_Towhee' -> 'TAGAN_data/images/148.Green_tailed_Towhee'\n",
            "renamed 'mini_TAGAN_data_30/images/149.Brown_Thrasher' -> 'TAGAN_data/images/149.Brown_Thrasher'\n",
            "renamed 'mini_TAGAN_data_30/images/150.Sage_Thrasher' -> 'TAGAN_data/images/150.Sage_Thrasher'\n",
            "renamed 'mini_TAGAN_data_31/images/151.Black_capped_Vireo' -> 'TAGAN_data/images/151.Black_capped_Vireo'\n",
            "renamed 'mini_TAGAN_data_31/images/152.Blue_headed_Vireo' -> 'TAGAN_data/images/152.Blue_headed_Vireo'\n",
            "renamed 'mini_TAGAN_data_31/images/153.Philadelphia_Vireo' -> 'TAGAN_data/images/153.Philadelphia_Vireo'\n",
            "renamed 'mini_TAGAN_data_31/images/154.Red_eyed_Vireo' -> 'TAGAN_data/images/154.Red_eyed_Vireo'\n",
            "renamed 'mini_TAGAN_data_31/images/155.Warbling_Vireo' -> 'TAGAN_data/images/155.Warbling_Vireo'\n",
            "renamed 'mini_TAGAN_data_32/images/156.White_eyed_Vireo' -> 'TAGAN_data/images/156.White_eyed_Vireo'\n",
            "renamed 'mini_TAGAN_data_32/images/157.Yellow_throated_Vireo' -> 'TAGAN_data/images/157.Yellow_throated_Vireo'\n",
            "renamed 'mini_TAGAN_data_32/images/158.Bay_breasted_Warbler' -> 'TAGAN_data/images/158.Bay_breasted_Warbler'\n",
            "renamed 'mini_TAGAN_data_32/images/159.Black_and_white_Warbler' -> 'TAGAN_data/images/159.Black_and_white_Warbler'\n",
            "renamed 'mini_TAGAN_data_32/images/160.Black_throated_Blue_Warbler' -> 'TAGAN_data/images/160.Black_throated_Blue_Warbler'\n",
            "renamed 'mini_TAGAN_data_33/images/161.Blue_winged_Warbler' -> 'TAGAN_data/images/161.Blue_winged_Warbler'\n",
            "renamed 'mini_TAGAN_data_33/images/162.Canada_Warbler' -> 'TAGAN_data/images/162.Canada_Warbler'\n",
            "renamed 'mini_TAGAN_data_33/images/163.Cape_May_Warbler' -> 'TAGAN_data/images/163.Cape_May_Warbler'\n",
            "renamed 'mini_TAGAN_data_33/images/164.Cerulean_Warbler' -> 'TAGAN_data/images/164.Cerulean_Warbler'\n",
            "renamed 'mini_TAGAN_data_33/images/165.Chestnut_sided_Warbler' -> 'TAGAN_data/images/165.Chestnut_sided_Warbler'\n",
            "renamed 'mini_TAGAN_data_34/images/166.Golden_winged_Warbler' -> 'TAGAN_data/images/166.Golden_winged_Warbler'\n",
            "renamed 'mini_TAGAN_data_34/images/167.Hooded_Warbler' -> 'TAGAN_data/images/167.Hooded_Warbler'\n",
            "renamed 'mini_TAGAN_data_34/images/168.Kentucky_Warbler' -> 'TAGAN_data/images/168.Kentucky_Warbler'\n",
            "renamed 'mini_TAGAN_data_34/images/169.Magnolia_Warbler' -> 'TAGAN_data/images/169.Magnolia_Warbler'\n",
            "renamed 'mini_TAGAN_data_34/images/170.Mourning_Warbler' -> 'TAGAN_data/images/170.Mourning_Warbler'\n",
            "renamed 'mini_TAGAN_data_35/images/171.Myrtle_Warbler' -> 'TAGAN_data/images/171.Myrtle_Warbler'\n",
            "renamed 'mini_TAGAN_data_35/images/172.Nashville_Warbler' -> 'TAGAN_data/images/172.Nashville_Warbler'\n",
            "renamed 'mini_TAGAN_data_35/images/173.Orange_crowned_Warbler' -> 'TAGAN_data/images/173.Orange_crowned_Warbler'\n",
            "renamed 'mini_TAGAN_data_35/images/174.Palm_Warbler' -> 'TAGAN_data/images/174.Palm_Warbler'\n",
            "renamed 'mini_TAGAN_data_35/images/175.Pine_Warbler' -> 'TAGAN_data/images/175.Pine_Warbler'\n",
            "renamed 'mini_TAGAN_data_36/images/176.Prairie_Warbler' -> 'TAGAN_data/images/176.Prairie_Warbler'\n",
            "renamed 'mini_TAGAN_data_36/images/177.Prothonotary_Warbler' -> 'TAGAN_data/images/177.Prothonotary_Warbler'\n",
            "renamed 'mini_TAGAN_data_36/images/178.Swainson_Warbler' -> 'TAGAN_data/images/178.Swainson_Warbler'\n",
            "renamed 'mini_TAGAN_data_36/images/179.Tennessee_Warbler' -> 'TAGAN_data/images/179.Tennessee_Warbler'\n",
            "renamed 'mini_TAGAN_data_36/images/180.Wilson_Warbler' -> 'TAGAN_data/images/180.Wilson_Warbler'\n",
            "renamed 'mini_TAGAN_data_37/images/181.Worm_eating_Warbler' -> 'TAGAN_data/images/181.Worm_eating_Warbler'\n",
            "renamed 'mini_TAGAN_data_37/images/182.Yellow_Warbler' -> 'TAGAN_data/images/182.Yellow_Warbler'\n",
            "renamed 'mini_TAGAN_data_37/images/183.Northern_Waterthrush' -> 'TAGAN_data/images/183.Northern_Waterthrush'\n",
            "renamed 'mini_TAGAN_data_37/images/184.Louisiana_Waterthrush' -> 'TAGAN_data/images/184.Louisiana_Waterthrush'\n",
            "renamed 'mini_TAGAN_data_37/images/185.Bohemian_Waxwing' -> 'TAGAN_data/images/185.Bohemian_Waxwing'\n",
            "renamed 'mini_TAGAN_data_38/images/186.Cedar_Waxwing' -> 'TAGAN_data/images/186.Cedar_Waxwing'\n",
            "renamed 'mini_TAGAN_data_38/images/187.American_Three_toed_Woodpecker' -> 'TAGAN_data/images/187.American_Three_toed_Woodpecker'\n",
            "renamed 'mini_TAGAN_data_38/images/188.Pileated_Woodpecker' -> 'TAGAN_data/images/188.Pileated_Woodpecker'\n",
            "renamed 'mini_TAGAN_data_38/images/189.Red_bellied_Woodpecker' -> 'TAGAN_data/images/189.Red_bellied_Woodpecker'\n",
            "renamed 'mini_TAGAN_data_38/images/190.Red_cockaded_Woodpecker' -> 'TAGAN_data/images/190.Red_cockaded_Woodpecker'\n",
            "renamed 'mini_TAGAN_data_39/images/191.Red_headed_Woodpecker' -> 'TAGAN_data/images/191.Red_headed_Woodpecker'\n",
            "renamed 'mini_TAGAN_data_39/images/192.Downy_Woodpecker' -> 'TAGAN_data/images/192.Downy_Woodpecker'\n",
            "renamed 'mini_TAGAN_data_39/images/193.Bewick_Wren' -> 'TAGAN_data/images/193.Bewick_Wren'\n",
            "renamed 'mini_TAGAN_data_39/images/194.Cactus_Wren' -> 'TAGAN_data/images/194.Cactus_Wren'\n",
            "renamed 'mini_TAGAN_data_39/images/195.Carolina_Wren' -> 'TAGAN_data/images/195.Carolina_Wren'\n",
            "mv: cannot move 'mini_TAGAN_data_3/images/006.Least_Auklet' to 'TAGAN_data/images/006.Least_Auklet': Directory not empty\n",
            "mv: cannot move 'mini_TAGAN_data_3/images/007.Parakeet_Auklet' to 'TAGAN_data/images/007.Parakeet_Auklet': Directory not empty\n",
            "mv: cannot move 'mini_TAGAN_data_3/images/008.Rhinoceros_Auklet' to 'TAGAN_data/images/008.Rhinoceros_Auklet': Directory not empty\n",
            "mv: cannot move 'mini_TAGAN_data_3/images/009.Brewer_Blackbird' to 'TAGAN_data/images/009.Brewer_Blackbird': Directory not empty\n",
            "mv: cannot move 'mini_TAGAN_data_3/images/010.Red_winged_Blackbird' to 'TAGAN_data/images/010.Red_winged_Blackbird': Directory not empty\n",
            "renamed 'mini_TAGAN_data_3/images/011.Rusty_Blackbird' -> 'TAGAN_data/images/011.Rusty_Blackbird'\n",
            "renamed 'mini_TAGAN_data_3/images/012.Yellow_headed_Blackbird' -> 'TAGAN_data/images/012.Yellow_headed_Blackbird'\n",
            "renamed 'mini_TAGAN_data_3/images/013.Bobolink' -> 'TAGAN_data/images/013.Bobolink'\n",
            "renamed 'mini_TAGAN_data_3/images/014.Indigo_Bunting' -> 'TAGAN_data/images/014.Indigo_Bunting'\n",
            "renamed 'mini_TAGAN_data_3/images/015.Lazuli_Bunting' -> 'TAGAN_data/images/015.Lazuli_Bunting'\n",
            "renamed 'mini_TAGAN_data_40/images/196.House_Wren' -> 'TAGAN_data/images/196.House_Wren'\n",
            "renamed 'mini_TAGAN_data_40/images/197.Marsh_Wren' -> 'TAGAN_data/images/197.Marsh_Wren'\n",
            "renamed 'mini_TAGAN_data_40/images/198.Rock_Wren' -> 'TAGAN_data/images/198.Rock_Wren'\n",
            "renamed 'mini_TAGAN_data_40/images/199.Winter_Wren' -> 'TAGAN_data/images/199.Winter_Wren'\n",
            "renamed 'mini_TAGAN_data_40/images/200.Common_Yellowthroat' -> 'TAGAN_data/images/200.Common_Yellowthroat'\n",
            "renamed 'mini_TAGAN_data_4/images/016.Painted_Bunting' -> 'TAGAN_data/images/016.Painted_Bunting'\n",
            "renamed 'mini_TAGAN_data_4/images/017.Cardinal' -> 'TAGAN_data/images/017.Cardinal'\n",
            "renamed 'mini_TAGAN_data_4/images/018.Spotted_Catbird' -> 'TAGAN_data/images/018.Spotted_Catbird'\n",
            "renamed 'mini_TAGAN_data_4/images/019.Gray_Catbird' -> 'TAGAN_data/images/019.Gray_Catbird'\n",
            "renamed 'mini_TAGAN_data_4/images/020.Yellow_breasted_Chat' -> 'TAGAN_data/images/020.Yellow_breasted_Chat'\n",
            "renamed 'mini_TAGAN_data_5/images/021.Eastern_Towhee' -> 'TAGAN_data/images/021.Eastern_Towhee'\n",
            "renamed 'mini_TAGAN_data_5/images/022.Chuck_will_Widow' -> 'TAGAN_data/images/022.Chuck_will_Widow'\n",
            "renamed 'mini_TAGAN_data_5/images/023.Brandt_Cormorant' -> 'TAGAN_data/images/023.Brandt_Cormorant'\n",
            "renamed 'mini_TAGAN_data_5/images/024.Red_faced_Cormorant' -> 'TAGAN_data/images/024.Red_faced_Cormorant'\n",
            "renamed 'mini_TAGAN_data_5/images/025.Pelagic_Cormorant' -> 'TAGAN_data/images/025.Pelagic_Cormorant'\n",
            "renamed 'mini_TAGAN_data_6/images/026.Bronzed_Cowbird' -> 'TAGAN_data/images/026.Bronzed_Cowbird'\n",
            "renamed 'mini_TAGAN_data_6/images/027.Shiny_Cowbird' -> 'TAGAN_data/images/027.Shiny_Cowbird'\n",
            "renamed 'mini_TAGAN_data_6/images/028.Brown_Creeper' -> 'TAGAN_data/images/028.Brown_Creeper'\n",
            "renamed 'mini_TAGAN_data_6/images/029.American_Crow' -> 'TAGAN_data/images/029.American_Crow'\n",
            "renamed 'mini_TAGAN_data_6/images/030.Fish_Crow' -> 'TAGAN_data/images/030.Fish_Crow'\n",
            "renamed 'mini_TAGAN_data_7/images/031.Black_billed_Cuckoo' -> 'TAGAN_data/images/031.Black_billed_Cuckoo'\n",
            "renamed 'mini_TAGAN_data_7/images/032.Mangrove_Cuckoo' -> 'TAGAN_data/images/032.Mangrove_Cuckoo'\n",
            "renamed 'mini_TAGAN_data_7/images/033.Yellow_billed_Cuckoo' -> 'TAGAN_data/images/033.Yellow_billed_Cuckoo'\n",
            "renamed 'mini_TAGAN_data_7/images/034.Gray_crowned_Rosy_Finch' -> 'TAGAN_data/images/034.Gray_crowned_Rosy_Finch'\n",
            "renamed 'mini_TAGAN_data_7/images/035.Purple_Finch' -> 'TAGAN_data/images/035.Purple_Finch'\n",
            "renamed 'mini_TAGAN_data_8/images/036.Northern_Flicker' -> 'TAGAN_data/images/036.Northern_Flicker'\n",
            "renamed 'mini_TAGAN_data_8/images/037.Acadian_Flycatcher' -> 'TAGAN_data/images/037.Acadian_Flycatcher'\n",
            "renamed 'mini_TAGAN_data_8/images/038.Great_Crested_Flycatcher' -> 'TAGAN_data/images/038.Great_Crested_Flycatcher'\n",
            "renamed 'mini_TAGAN_data_8/images/039.Least_Flycatcher' -> 'TAGAN_data/images/039.Least_Flycatcher'\n",
            "renamed 'mini_TAGAN_data_8/images/040.Olive_sided_Flycatcher' -> 'TAGAN_data/images/040.Olive_sided_Flycatcher'\n",
            "renamed 'mini_TAGAN_data_9/images/041.Scissor_tailed_Flycatcher' -> 'TAGAN_data/images/041.Scissor_tailed_Flycatcher'\n",
            "renamed 'mini_TAGAN_data_9/images/042.Vermilion_Flycatcher' -> 'TAGAN_data/images/042.Vermilion_Flycatcher'\n",
            "renamed 'mini_TAGAN_data_9/images/043.Yellow_bellied_Flycatcher' -> 'TAGAN_data/images/043.Yellow_bellied_Flycatcher'\n",
            "renamed 'mini_TAGAN_data_9/images/044.Frigatebird' -> 'TAGAN_data/images/044.Frigatebird'\n",
            "renamed 'mini_TAGAN_data_9/images/045.Northern_Fulmar' -> 'TAGAN_data/images/045.Northern_Fulmar'\n",
            "renamed 'mini_TAGAN_data_10/text_c10/046.Gadwall' -> 'TAGAN_data/text_c10/046.Gadwall'\n",
            "renamed 'mini_TAGAN_data_10/text_c10/047.American_Goldfinch' -> 'TAGAN_data/text_c10/047.American_Goldfinch'\n",
            "renamed 'mini_TAGAN_data_10/text_c10/048.European_Goldfinch' -> 'TAGAN_data/text_c10/048.European_Goldfinch'\n",
            "renamed 'mini_TAGAN_data_10/text_c10/049.Boat_tailed_Grackle' -> 'TAGAN_data/text_c10/049.Boat_tailed_Grackle'\n",
            "renamed 'mini_TAGAN_data_10/text_c10/050.Eared_Grebe' -> 'TAGAN_data/text_c10/050.Eared_Grebe'\n",
            "renamed 'mini_TAGAN_data_11/text_c10/051.Horned_Grebe' -> 'TAGAN_data/text_c10/051.Horned_Grebe'\n",
            "renamed 'mini_TAGAN_data_11/text_c10/052.Pied_billed_Grebe' -> 'TAGAN_data/text_c10/052.Pied_billed_Grebe'\n",
            "renamed 'mini_TAGAN_data_11/text_c10/053.Western_Grebe' -> 'TAGAN_data/text_c10/053.Western_Grebe'\n",
            "renamed 'mini_TAGAN_data_11/text_c10/054.Blue_Grosbeak' -> 'TAGAN_data/text_c10/054.Blue_Grosbeak'\n",
            "renamed 'mini_TAGAN_data_11/text_c10/055.Evening_Grosbeak' -> 'TAGAN_data/text_c10/055.Evening_Grosbeak'\n",
            "renamed 'mini_TAGAN_data_12/text_c10/056.Pine_Grosbeak' -> 'TAGAN_data/text_c10/056.Pine_Grosbeak'\n",
            "renamed 'mini_TAGAN_data_12/text_c10/057.Rose_breasted_Grosbeak' -> 'TAGAN_data/text_c10/057.Rose_breasted_Grosbeak'\n",
            "renamed 'mini_TAGAN_data_12/text_c10/058.Pigeon_Guillemot' -> 'TAGAN_data/text_c10/058.Pigeon_Guillemot'\n",
            "renamed 'mini_TAGAN_data_12/text_c10/059.California_Gull' -> 'TAGAN_data/text_c10/059.California_Gull'\n",
            "renamed 'mini_TAGAN_data_12/text_c10/060.Glaucous_winged_Gull' -> 'TAGAN_data/text_c10/060.Glaucous_winged_Gull'\n",
            "renamed 'mini_TAGAN_data_13/text_c10/061.Heermann_Gull' -> 'TAGAN_data/text_c10/061.Heermann_Gull'\n",
            "renamed 'mini_TAGAN_data_13/text_c10/062.Herring_Gull' -> 'TAGAN_data/text_c10/062.Herring_Gull'\n",
            "renamed 'mini_TAGAN_data_13/text_c10/063.Ivory_Gull' -> 'TAGAN_data/text_c10/063.Ivory_Gull'\n",
            "renamed 'mini_TAGAN_data_13/text_c10/064.Ring_billed_Gull' -> 'TAGAN_data/text_c10/064.Ring_billed_Gull'\n",
            "renamed 'mini_TAGAN_data_13/text_c10/065.Slaty_backed_Gull' -> 'TAGAN_data/text_c10/065.Slaty_backed_Gull'\n",
            "renamed 'mini_TAGAN_data_14/text_c10/066.Western_Gull' -> 'TAGAN_data/text_c10/066.Western_Gull'\n",
            "renamed 'mini_TAGAN_data_14/text_c10/067.Anna_Hummingbird' -> 'TAGAN_data/text_c10/067.Anna_Hummingbird'\n",
            "renamed 'mini_TAGAN_data_14/text_c10/068.Ruby_throated_Hummingbird' -> 'TAGAN_data/text_c10/068.Ruby_throated_Hummingbird'\n",
            "renamed 'mini_TAGAN_data_14/text_c10/069.Rufous_Hummingbird' -> 'TAGAN_data/text_c10/069.Rufous_Hummingbird'\n",
            "renamed 'mini_TAGAN_data_14/text_c10/070.Green_Violetear' -> 'TAGAN_data/text_c10/070.Green_Violetear'\n",
            "renamed 'mini_TAGAN_data_15/text_c10/071.Long_tailed_Jaeger' -> 'TAGAN_data/text_c10/071.Long_tailed_Jaeger'\n",
            "renamed 'mini_TAGAN_data_15/text_c10/072.Pomarine_Jaeger' -> 'TAGAN_data/text_c10/072.Pomarine_Jaeger'\n",
            "renamed 'mini_TAGAN_data_15/text_c10/073.Blue_Jay' -> 'TAGAN_data/text_c10/073.Blue_Jay'\n",
            "renamed 'mini_TAGAN_data_15/text_c10/074.Florida_Jay' -> 'TAGAN_data/text_c10/074.Florida_Jay'\n",
            "renamed 'mini_TAGAN_data_15/text_c10/075.Green_Jay' -> 'TAGAN_data/text_c10/075.Green_Jay'\n",
            "renamed 'mini_TAGAN_data_16/text_c10/076.Dark_eyed_Junco' -> 'TAGAN_data/text_c10/076.Dark_eyed_Junco'\n",
            "renamed 'mini_TAGAN_data_16/text_c10/077.Tropical_Kingbird' -> 'TAGAN_data/text_c10/077.Tropical_Kingbird'\n",
            "renamed 'mini_TAGAN_data_16/text_c10/078.Gray_Kingbird' -> 'TAGAN_data/text_c10/078.Gray_Kingbird'\n",
            "renamed 'mini_TAGAN_data_16/text_c10/079.Belted_Kingfisher' -> 'TAGAN_data/text_c10/079.Belted_Kingfisher'\n",
            "renamed 'mini_TAGAN_data_16/text_c10/080.Green_Kingfisher' -> 'TAGAN_data/text_c10/080.Green_Kingfisher'\n",
            "renamed 'mini_TAGAN_data_17/text_c10/081.Pied_Kingfisher' -> 'TAGAN_data/text_c10/081.Pied_Kingfisher'\n",
            "renamed 'mini_TAGAN_data_17/text_c10/082.Ringed_Kingfisher' -> 'TAGAN_data/text_c10/082.Ringed_Kingfisher'\n",
            "renamed 'mini_TAGAN_data_17/text_c10/083.White_breasted_Kingfisher' -> 'TAGAN_data/text_c10/083.White_breasted_Kingfisher'\n",
            "renamed 'mini_TAGAN_data_17/text_c10/084.Red_legged_Kittiwake' -> 'TAGAN_data/text_c10/084.Red_legged_Kittiwake'\n",
            "renamed 'mini_TAGAN_data_17/text_c10/085.Horned_Lark' -> 'TAGAN_data/text_c10/085.Horned_Lark'\n",
            "renamed 'mini_TAGAN_data_18/text_c10/086.Pacific_Loon' -> 'TAGAN_data/text_c10/086.Pacific_Loon'\n",
            "renamed 'mini_TAGAN_data_18/text_c10/087.Mallard' -> 'TAGAN_data/text_c10/087.Mallard'\n",
            "renamed 'mini_TAGAN_data_18/text_c10/088.Western_Meadowlark' -> 'TAGAN_data/text_c10/088.Western_Meadowlark'\n",
            "renamed 'mini_TAGAN_data_18/text_c10/089.Hooded_Merganser' -> 'TAGAN_data/text_c10/089.Hooded_Merganser'\n",
            "renamed 'mini_TAGAN_data_18/text_c10/090.Red_breasted_Merganser' -> 'TAGAN_data/text_c10/090.Red_breasted_Merganser'\n",
            "renamed 'mini_TAGAN_data_19/text_c10/091.Mockingbird' -> 'TAGAN_data/text_c10/091.Mockingbird'\n",
            "renamed 'mini_TAGAN_data_19/text_c10/092.Nighthawk' -> 'TAGAN_data/text_c10/092.Nighthawk'\n",
            "renamed 'mini_TAGAN_data_19/text_c10/093.Clark_Nutcracker' -> 'TAGAN_data/text_c10/093.Clark_Nutcracker'\n",
            "renamed 'mini_TAGAN_data_19/text_c10/094.White_breasted_Nuthatch' -> 'TAGAN_data/text_c10/094.White_breasted_Nuthatch'\n",
            "renamed 'mini_TAGAN_data_19/text_c10/095.Baltimore_Oriole' -> 'TAGAN_data/text_c10/095.Baltimore_Oriole'\n",
            "renamed 'mini_TAGAN_data_1/text_c10/001.Black_footed_Albatross' -> 'TAGAN_data/text_c10/001.Black_footed_Albatross'\n",
            "renamed 'mini_TAGAN_data_1/text_c10/002.Laysan_Albatross' -> 'TAGAN_data/text_c10/002.Laysan_Albatross'\n",
            "renamed 'mini_TAGAN_data_1/text_c10/003.Sooty_Albatross' -> 'TAGAN_data/text_c10/003.Sooty_Albatross'\n",
            "renamed 'mini_TAGAN_data_1/text_c10/004.Groove_billed_Ani' -> 'TAGAN_data/text_c10/004.Groove_billed_Ani'\n",
            "renamed 'mini_TAGAN_data_1/text_c10/005.Crested_Auklet' -> 'TAGAN_data/text_c10/005.Crested_Auklet'\n",
            "renamed 'mini_TAGAN_data_20/text_c10/096.Hooded_Oriole' -> 'TAGAN_data/text_c10/096.Hooded_Oriole'\n",
            "renamed 'mini_TAGAN_data_20/text_c10/097.Orchard_Oriole' -> 'TAGAN_data/text_c10/097.Orchard_Oriole'\n",
            "renamed 'mini_TAGAN_data_20/text_c10/098.Scott_Oriole' -> 'TAGAN_data/text_c10/098.Scott_Oriole'\n",
            "renamed 'mini_TAGAN_data_20/text_c10/099.Ovenbird' -> 'TAGAN_data/text_c10/099.Ovenbird'\n",
            "renamed 'mini_TAGAN_data_20/text_c10/100.Brown_Pelican' -> 'TAGAN_data/text_c10/100.Brown_Pelican'\n",
            "renamed 'mini_TAGAN_data_21/text_c10/101.White_Pelican' -> 'TAGAN_data/text_c10/101.White_Pelican'\n",
            "renamed 'mini_TAGAN_data_21/text_c10/102.Western_Wood_Pewee' -> 'TAGAN_data/text_c10/102.Western_Wood_Pewee'\n",
            "renamed 'mini_TAGAN_data_21/text_c10/103.Sayornis' -> 'TAGAN_data/text_c10/103.Sayornis'\n",
            "renamed 'mini_TAGAN_data_21/text_c10/104.American_Pipit' -> 'TAGAN_data/text_c10/104.American_Pipit'\n",
            "renamed 'mini_TAGAN_data_21/text_c10/105.Whip_poor_Will' -> 'TAGAN_data/text_c10/105.Whip_poor_Will'\n",
            "renamed 'mini_TAGAN_data_22/text_c10/106.Horned_Puffin' -> 'TAGAN_data/text_c10/106.Horned_Puffin'\n",
            "renamed 'mini_TAGAN_data_22/text_c10/107.Common_Raven' -> 'TAGAN_data/text_c10/107.Common_Raven'\n",
            "renamed 'mini_TAGAN_data_22/text_c10/108.White_necked_Raven' -> 'TAGAN_data/text_c10/108.White_necked_Raven'\n",
            "renamed 'mini_TAGAN_data_22/text_c10/109.American_Redstart' -> 'TAGAN_data/text_c10/109.American_Redstart'\n",
            "renamed 'mini_TAGAN_data_22/text_c10/110.Geococcyx' -> 'TAGAN_data/text_c10/110.Geococcyx'\n",
            "renamed 'mini_TAGAN_data_23/text_c10/111.Loggerhead_Shrike' -> 'TAGAN_data/text_c10/111.Loggerhead_Shrike'\n",
            "renamed 'mini_TAGAN_data_23/text_c10/112.Great_Grey_Shrike' -> 'TAGAN_data/text_c10/112.Great_Grey_Shrike'\n",
            "renamed 'mini_TAGAN_data_23/text_c10/113.Baird_Sparrow' -> 'TAGAN_data/text_c10/113.Baird_Sparrow'\n",
            "renamed 'mini_TAGAN_data_23/text_c10/114.Black_throated_Sparrow' -> 'TAGAN_data/text_c10/114.Black_throated_Sparrow'\n",
            "renamed 'mini_TAGAN_data_23/text_c10/115.Brewer_Sparrow' -> 'TAGAN_data/text_c10/115.Brewer_Sparrow'\n",
            "renamed 'mini_TAGAN_data_24/text_c10/116.Chipping_Sparrow' -> 'TAGAN_data/text_c10/116.Chipping_Sparrow'\n",
            "renamed 'mini_TAGAN_data_24/text_c10/117.Clay_colored_Sparrow' -> 'TAGAN_data/text_c10/117.Clay_colored_Sparrow'\n",
            "renamed 'mini_TAGAN_data_24/text_c10/118.House_Sparrow' -> 'TAGAN_data/text_c10/118.House_Sparrow'\n",
            "renamed 'mini_TAGAN_data_24/text_c10/119.Field_Sparrow' -> 'TAGAN_data/text_c10/119.Field_Sparrow'\n",
            "renamed 'mini_TAGAN_data_24/text_c10/120.Fox_Sparrow' -> 'TAGAN_data/text_c10/120.Fox_Sparrow'\n",
            "renamed 'mini_TAGAN_data_25/text_c10/121.Grasshopper_Sparrow' -> 'TAGAN_data/text_c10/121.Grasshopper_Sparrow'\n",
            "renamed 'mini_TAGAN_data_25/text_c10/122.Harris_Sparrow' -> 'TAGAN_data/text_c10/122.Harris_Sparrow'\n",
            "renamed 'mini_TAGAN_data_25/text_c10/123.Henslow_Sparrow' -> 'TAGAN_data/text_c10/123.Henslow_Sparrow'\n",
            "renamed 'mini_TAGAN_data_25/text_c10/124.Le_Conte_Sparrow' -> 'TAGAN_data/text_c10/124.Le_Conte_Sparrow'\n",
            "renamed 'mini_TAGAN_data_25/text_c10/125.Lincoln_Sparrow' -> 'TAGAN_data/text_c10/125.Lincoln_Sparrow'\n",
            "renamed 'mini_TAGAN_data_26/text_c10/126.Nelson_Sharp_tailed_Sparrow' -> 'TAGAN_data/text_c10/126.Nelson_Sharp_tailed_Sparrow'\n",
            "renamed 'mini_TAGAN_data_26/text_c10/127.Savannah_Sparrow' -> 'TAGAN_data/text_c10/127.Savannah_Sparrow'\n",
            "renamed 'mini_TAGAN_data_26/text_c10/128.Seaside_Sparrow' -> 'TAGAN_data/text_c10/128.Seaside_Sparrow'\n",
            "renamed 'mini_TAGAN_data_26/text_c10/129.Song_Sparrow' -> 'TAGAN_data/text_c10/129.Song_Sparrow'\n",
            "renamed 'mini_TAGAN_data_26/text_c10/130.Tree_Sparrow' -> 'TAGAN_data/text_c10/130.Tree_Sparrow'\n",
            "renamed 'mini_TAGAN_data_27/text_c10/131.Vesper_Sparrow' -> 'TAGAN_data/text_c10/131.Vesper_Sparrow'\n",
            "renamed 'mini_TAGAN_data_27/text_c10/132.White_crowned_Sparrow' -> 'TAGAN_data/text_c10/132.White_crowned_Sparrow'\n",
            "renamed 'mini_TAGAN_data_27/text_c10/133.White_throated_Sparrow' -> 'TAGAN_data/text_c10/133.White_throated_Sparrow'\n",
            "renamed 'mini_TAGAN_data_27/text_c10/134.Cape_Glossy_Starling' -> 'TAGAN_data/text_c10/134.Cape_Glossy_Starling'\n",
            "renamed 'mini_TAGAN_data_27/text_c10/135.Bank_Swallow' -> 'TAGAN_data/text_c10/135.Bank_Swallow'\n",
            "renamed 'mini_TAGAN_data_28/text_c10/136.Barn_Swallow' -> 'TAGAN_data/text_c10/136.Barn_Swallow'\n",
            "renamed 'mini_TAGAN_data_28/text_c10/137.Cliff_Swallow' -> 'TAGAN_data/text_c10/137.Cliff_Swallow'\n",
            "renamed 'mini_TAGAN_data_28/text_c10/138.Tree_Swallow' -> 'TAGAN_data/text_c10/138.Tree_Swallow'\n",
            "renamed 'mini_TAGAN_data_28/text_c10/139.Scarlet_Tanager' -> 'TAGAN_data/text_c10/139.Scarlet_Tanager'\n",
            "renamed 'mini_TAGAN_data_28/text_c10/140.Summer_Tanager' -> 'TAGAN_data/text_c10/140.Summer_Tanager'\n",
            "renamed 'mini_TAGAN_data_29/text_c10/141.Artic_Tern' -> 'TAGAN_data/text_c10/141.Artic_Tern'\n",
            "renamed 'mini_TAGAN_data_29/text_c10/142.Black_Tern' -> 'TAGAN_data/text_c10/142.Black_Tern'\n",
            "renamed 'mini_TAGAN_data_29/text_c10/143.Caspian_Tern' -> 'TAGAN_data/text_c10/143.Caspian_Tern'\n",
            "renamed 'mini_TAGAN_data_29/text_c10/144.Common_Tern' -> 'TAGAN_data/text_c10/144.Common_Tern'\n",
            "renamed 'mini_TAGAN_data_29/text_c10/145.Elegant_Tern' -> 'TAGAN_data/text_c10/145.Elegant_Tern'\n",
            "renamed 'mini_TAGAN_data_2/text_c10/006.Least_Auklet' -> 'TAGAN_data/text_c10/006.Least_Auklet'\n",
            "renamed 'mini_TAGAN_data_2/text_c10/007.Parakeet_Auklet' -> 'TAGAN_data/text_c10/007.Parakeet_Auklet'\n",
            "renamed 'mini_TAGAN_data_2/text_c10/008.Rhinoceros_Auklet' -> 'TAGAN_data/text_c10/008.Rhinoceros_Auklet'\n",
            "renamed 'mini_TAGAN_data_2/text_c10/009.Brewer_Blackbird' -> 'TAGAN_data/text_c10/009.Brewer_Blackbird'\n",
            "renamed 'mini_TAGAN_data_2/text_c10/010.Red_winged_Blackbird' -> 'TAGAN_data/text_c10/010.Red_winged_Blackbird'\n",
            "renamed 'mini_TAGAN_data_30/text_c10/146.Forsters_Tern' -> 'TAGAN_data/text_c10/146.Forsters_Tern'\n",
            "renamed 'mini_TAGAN_data_30/text_c10/147.Least_Tern' -> 'TAGAN_data/text_c10/147.Least_Tern'\n",
            "renamed 'mini_TAGAN_data_30/text_c10/148.Green_tailed_Towhee' -> 'TAGAN_data/text_c10/148.Green_tailed_Towhee'\n",
            "renamed 'mini_TAGAN_data_30/text_c10/149.Brown_Thrasher' -> 'TAGAN_data/text_c10/149.Brown_Thrasher'\n",
            "renamed 'mini_TAGAN_data_30/text_c10/150.Sage_Thrasher' -> 'TAGAN_data/text_c10/150.Sage_Thrasher'\n",
            "renamed 'mini_TAGAN_data_31/text_c10/151.Black_capped_Vireo' -> 'TAGAN_data/text_c10/151.Black_capped_Vireo'\n",
            "renamed 'mini_TAGAN_data_31/text_c10/152.Blue_headed_Vireo' -> 'TAGAN_data/text_c10/152.Blue_headed_Vireo'\n",
            "renamed 'mini_TAGAN_data_31/text_c10/153.Philadelphia_Vireo' -> 'TAGAN_data/text_c10/153.Philadelphia_Vireo'\n",
            "renamed 'mini_TAGAN_data_31/text_c10/154.Red_eyed_Vireo' -> 'TAGAN_data/text_c10/154.Red_eyed_Vireo'\n",
            "renamed 'mini_TAGAN_data_31/text_c10/155.Warbling_Vireo' -> 'TAGAN_data/text_c10/155.Warbling_Vireo'\n",
            "renamed 'mini_TAGAN_data_32/text_c10/156.White_eyed_Vireo' -> 'TAGAN_data/text_c10/156.White_eyed_Vireo'\n",
            "renamed 'mini_TAGAN_data_32/text_c10/157.Yellow_throated_Vireo' -> 'TAGAN_data/text_c10/157.Yellow_throated_Vireo'\n",
            "renamed 'mini_TAGAN_data_32/text_c10/158.Bay_breasted_Warbler' -> 'TAGAN_data/text_c10/158.Bay_breasted_Warbler'\n",
            "renamed 'mini_TAGAN_data_32/text_c10/159.Black_and_white_Warbler' -> 'TAGAN_data/text_c10/159.Black_and_white_Warbler'\n",
            "renamed 'mini_TAGAN_data_32/text_c10/160.Black_throated_Blue_Warbler' -> 'TAGAN_data/text_c10/160.Black_throated_Blue_Warbler'\n",
            "renamed 'mini_TAGAN_data_33/text_c10/161.Blue_winged_Warbler' -> 'TAGAN_data/text_c10/161.Blue_winged_Warbler'\n",
            "renamed 'mini_TAGAN_data_33/text_c10/162.Canada_Warbler' -> 'TAGAN_data/text_c10/162.Canada_Warbler'\n",
            "renamed 'mini_TAGAN_data_33/text_c10/163.Cape_May_Warbler' -> 'TAGAN_data/text_c10/163.Cape_May_Warbler'\n",
            "renamed 'mini_TAGAN_data_33/text_c10/164.Cerulean_Warbler' -> 'TAGAN_data/text_c10/164.Cerulean_Warbler'\n",
            "renamed 'mini_TAGAN_data_33/text_c10/165.Chestnut_sided_Warbler' -> 'TAGAN_data/text_c10/165.Chestnut_sided_Warbler'\n",
            "renamed 'mini_TAGAN_data_34/text_c10/166.Golden_winged_Warbler' -> 'TAGAN_data/text_c10/166.Golden_winged_Warbler'\n",
            "renamed 'mini_TAGAN_data_34/text_c10/167.Hooded_Warbler' -> 'TAGAN_data/text_c10/167.Hooded_Warbler'\n",
            "renamed 'mini_TAGAN_data_34/text_c10/168.Kentucky_Warbler' -> 'TAGAN_data/text_c10/168.Kentucky_Warbler'\n",
            "renamed 'mini_TAGAN_data_34/text_c10/169.Magnolia_Warbler' -> 'TAGAN_data/text_c10/169.Magnolia_Warbler'\n",
            "renamed 'mini_TAGAN_data_34/text_c10/170.Mourning_Warbler' -> 'TAGAN_data/text_c10/170.Mourning_Warbler'\n",
            "renamed 'mini_TAGAN_data_35/text_c10/171.Myrtle_Warbler' -> 'TAGAN_data/text_c10/171.Myrtle_Warbler'\n",
            "renamed 'mini_TAGAN_data_35/text_c10/172.Nashville_Warbler' -> 'TAGAN_data/text_c10/172.Nashville_Warbler'\n",
            "renamed 'mini_TAGAN_data_35/text_c10/173.Orange_crowned_Warbler' -> 'TAGAN_data/text_c10/173.Orange_crowned_Warbler'\n",
            "renamed 'mini_TAGAN_data_35/text_c10/174.Palm_Warbler' -> 'TAGAN_data/text_c10/174.Palm_Warbler'\n",
            "renamed 'mini_TAGAN_data_35/text_c10/175.Pine_Warbler' -> 'TAGAN_data/text_c10/175.Pine_Warbler'\n",
            "renamed 'mini_TAGAN_data_36/text_c10/176.Prairie_Warbler' -> 'TAGAN_data/text_c10/176.Prairie_Warbler'\n",
            "renamed 'mini_TAGAN_data_36/text_c10/177.Prothonotary_Warbler' -> 'TAGAN_data/text_c10/177.Prothonotary_Warbler'\n",
            "renamed 'mini_TAGAN_data_36/text_c10/178.Swainson_Warbler' -> 'TAGAN_data/text_c10/178.Swainson_Warbler'\n",
            "renamed 'mini_TAGAN_data_36/text_c10/179.Tennessee_Warbler' -> 'TAGAN_data/text_c10/179.Tennessee_Warbler'\n",
            "renamed 'mini_TAGAN_data_36/text_c10/180.Wilson_Warbler' -> 'TAGAN_data/text_c10/180.Wilson_Warbler'\n",
            "renamed 'mini_TAGAN_data_37/text_c10/181.Worm_eating_Warbler' -> 'TAGAN_data/text_c10/181.Worm_eating_Warbler'\n",
            "renamed 'mini_TAGAN_data_37/text_c10/182.Yellow_Warbler' -> 'TAGAN_data/text_c10/182.Yellow_Warbler'\n",
            "renamed 'mini_TAGAN_data_37/text_c10/183.Northern_Waterthrush' -> 'TAGAN_data/text_c10/183.Northern_Waterthrush'\n",
            "renamed 'mini_TAGAN_data_37/text_c10/184.Louisiana_Waterthrush' -> 'TAGAN_data/text_c10/184.Louisiana_Waterthrush'\n",
            "renamed 'mini_TAGAN_data_37/text_c10/185.Bohemian_Waxwing' -> 'TAGAN_data/text_c10/185.Bohemian_Waxwing'\n",
            "renamed 'mini_TAGAN_data_38/text_c10/186.Cedar_Waxwing' -> 'TAGAN_data/text_c10/186.Cedar_Waxwing'\n",
            "renamed 'mini_TAGAN_data_38/text_c10/187.American_Three_toed_Woodpecker' -> 'TAGAN_data/text_c10/187.American_Three_toed_Woodpecker'\n",
            "renamed 'mini_TAGAN_data_38/text_c10/188.Pileated_Woodpecker' -> 'TAGAN_data/text_c10/188.Pileated_Woodpecker'\n",
            "renamed 'mini_TAGAN_data_38/text_c10/189.Red_bellied_Woodpecker' -> 'TAGAN_data/text_c10/189.Red_bellied_Woodpecker'\n",
            "renamed 'mini_TAGAN_data_38/text_c10/190.Red_cockaded_Woodpecker' -> 'TAGAN_data/text_c10/190.Red_cockaded_Woodpecker'\n",
            "renamed 'mini_TAGAN_data_39/text_c10/191.Red_headed_Woodpecker' -> 'TAGAN_data/text_c10/191.Red_headed_Woodpecker'\n",
            "renamed 'mini_TAGAN_data_39/text_c10/192.Downy_Woodpecker' -> 'TAGAN_data/text_c10/192.Downy_Woodpecker'\n",
            "renamed 'mini_TAGAN_data_39/text_c10/193.Bewick_Wren' -> 'TAGAN_data/text_c10/193.Bewick_Wren'\n",
            "renamed 'mini_TAGAN_data_39/text_c10/194.Cactus_Wren' -> 'TAGAN_data/text_c10/194.Cactus_Wren'\n",
            "renamed 'mini_TAGAN_data_39/text_c10/195.Carolina_Wren' -> 'TAGAN_data/text_c10/195.Carolina_Wren'\n",
            "mv: cannot move 'mini_TAGAN_data_3/text_c10/006.Least_Auklet' to 'TAGAN_data/text_c10/006.Least_Auklet': Directory not empty\n",
            "mv: cannot move 'mini_TAGAN_data_3/text_c10/007.Parakeet_Auklet' to 'TAGAN_data/text_c10/007.Parakeet_Auklet': Directory not empty\n",
            "mv: cannot move 'mini_TAGAN_data_3/text_c10/008.Rhinoceros_Auklet' to 'TAGAN_data/text_c10/008.Rhinoceros_Auklet': Directory not empty\n",
            "mv: cannot move 'mini_TAGAN_data_3/text_c10/009.Brewer_Blackbird' to 'TAGAN_data/text_c10/009.Brewer_Blackbird': Directory not empty\n",
            "mv: cannot move 'mini_TAGAN_data_3/text_c10/010.Red_winged_Blackbird' to 'TAGAN_data/text_c10/010.Red_winged_Blackbird': Directory not empty\n",
            "renamed 'mini_TAGAN_data_3/text_c10/011.Rusty_Blackbird' -> 'TAGAN_data/text_c10/011.Rusty_Blackbird'\n",
            "renamed 'mini_TAGAN_data_3/text_c10/012.Yellow_headed_Blackbird' -> 'TAGAN_data/text_c10/012.Yellow_headed_Blackbird'\n",
            "renamed 'mini_TAGAN_data_3/text_c10/013.Bobolink' -> 'TAGAN_data/text_c10/013.Bobolink'\n",
            "renamed 'mini_TAGAN_data_3/text_c10/014.Indigo_Bunting' -> 'TAGAN_data/text_c10/014.Indigo_Bunting'\n",
            "renamed 'mini_TAGAN_data_3/text_c10/015.Lazuli_Bunting' -> 'TAGAN_data/text_c10/015.Lazuli_Bunting'\n",
            "renamed 'mini_TAGAN_data_40/text_c10/196.House_Wren' -> 'TAGAN_data/text_c10/196.House_Wren'\n",
            "renamed 'mini_TAGAN_data_40/text_c10/197.Marsh_Wren' -> 'TAGAN_data/text_c10/197.Marsh_Wren'\n",
            "renamed 'mini_TAGAN_data_40/text_c10/198.Rock_Wren' -> 'TAGAN_data/text_c10/198.Rock_Wren'\n",
            "renamed 'mini_TAGAN_data_40/text_c10/199.Winter_Wren' -> 'TAGAN_data/text_c10/199.Winter_Wren'\n",
            "renamed 'mini_TAGAN_data_40/text_c10/200.Common_Yellowthroat' -> 'TAGAN_data/text_c10/200.Common_Yellowthroat'\n",
            "renamed 'mini_TAGAN_data_4/text_c10/016.Painted_Bunting' -> 'TAGAN_data/text_c10/016.Painted_Bunting'\n",
            "renamed 'mini_TAGAN_data_4/text_c10/017.Cardinal' -> 'TAGAN_data/text_c10/017.Cardinal'\n",
            "renamed 'mini_TAGAN_data_4/text_c10/018.Spotted_Catbird' -> 'TAGAN_data/text_c10/018.Spotted_Catbird'\n",
            "renamed 'mini_TAGAN_data_4/text_c10/019.Gray_Catbird' -> 'TAGAN_data/text_c10/019.Gray_Catbird'\n",
            "renamed 'mini_TAGAN_data_4/text_c10/020.Yellow_breasted_Chat' -> 'TAGAN_data/text_c10/020.Yellow_breasted_Chat'\n",
            "renamed 'mini_TAGAN_data_5/text_c10/021.Eastern_Towhee' -> 'TAGAN_data/text_c10/021.Eastern_Towhee'\n",
            "renamed 'mini_TAGAN_data_5/text_c10/022.Chuck_will_Widow' -> 'TAGAN_data/text_c10/022.Chuck_will_Widow'\n",
            "renamed 'mini_TAGAN_data_5/text_c10/023.Brandt_Cormorant' -> 'TAGAN_data/text_c10/023.Brandt_Cormorant'\n",
            "renamed 'mini_TAGAN_data_5/text_c10/024.Red_faced_Cormorant' -> 'TAGAN_data/text_c10/024.Red_faced_Cormorant'\n",
            "renamed 'mini_TAGAN_data_5/text_c10/025.Pelagic_Cormorant' -> 'TAGAN_data/text_c10/025.Pelagic_Cormorant'\n",
            "renamed 'mini_TAGAN_data_6/text_c10/026.Bronzed_Cowbird' -> 'TAGAN_data/text_c10/026.Bronzed_Cowbird'\n",
            "renamed 'mini_TAGAN_data_6/text_c10/027.Shiny_Cowbird' -> 'TAGAN_data/text_c10/027.Shiny_Cowbird'\n",
            "renamed 'mini_TAGAN_data_6/text_c10/028.Brown_Creeper' -> 'TAGAN_data/text_c10/028.Brown_Creeper'\n",
            "renamed 'mini_TAGAN_data_6/text_c10/029.American_Crow' -> 'TAGAN_data/text_c10/029.American_Crow'\n",
            "renamed 'mini_TAGAN_data_6/text_c10/030.Fish_Crow' -> 'TAGAN_data/text_c10/030.Fish_Crow'\n",
            "renamed 'mini_TAGAN_data_7/text_c10/031.Black_billed_Cuckoo' -> 'TAGAN_data/text_c10/031.Black_billed_Cuckoo'\n",
            "renamed 'mini_TAGAN_data_7/text_c10/032.Mangrove_Cuckoo' -> 'TAGAN_data/text_c10/032.Mangrove_Cuckoo'\n",
            "renamed 'mini_TAGAN_data_7/text_c10/033.Yellow_billed_Cuckoo' -> 'TAGAN_data/text_c10/033.Yellow_billed_Cuckoo'\n",
            "renamed 'mini_TAGAN_data_7/text_c10/034.Gray_crowned_Rosy_Finch' -> 'TAGAN_data/text_c10/034.Gray_crowned_Rosy_Finch'\n",
            "renamed 'mini_TAGAN_data_7/text_c10/035.Purple_Finch' -> 'TAGAN_data/text_c10/035.Purple_Finch'\n",
            "renamed 'mini_TAGAN_data_8/text_c10/036.Northern_Flicker' -> 'TAGAN_data/text_c10/036.Northern_Flicker'\n",
            "renamed 'mini_TAGAN_data_8/text_c10/037.Acadian_Flycatcher' -> 'TAGAN_data/text_c10/037.Acadian_Flycatcher'\n",
            "renamed 'mini_TAGAN_data_8/text_c10/038.Great_Crested_Flycatcher' -> 'TAGAN_data/text_c10/038.Great_Crested_Flycatcher'\n",
            "renamed 'mini_TAGAN_data_8/text_c10/039.Least_Flycatcher' -> 'TAGAN_data/text_c10/039.Least_Flycatcher'\n",
            "renamed 'mini_TAGAN_data_8/text_c10/040.Olive_sided_Flycatcher' -> 'TAGAN_data/text_c10/040.Olive_sided_Flycatcher'\n",
            "renamed 'mini_TAGAN_data_9/text_c10/041.Scissor_tailed_Flycatcher' -> 'TAGAN_data/text_c10/041.Scissor_tailed_Flycatcher'\n",
            "renamed 'mini_TAGAN_data_9/text_c10/042.Vermilion_Flycatcher' -> 'TAGAN_data/text_c10/042.Vermilion_Flycatcher'\n",
            "renamed 'mini_TAGAN_data_9/text_c10/043.Yellow_bellied_Flycatcher' -> 'TAGAN_data/text_c10/043.Yellow_bellied_Flycatcher'\n",
            "renamed 'mini_TAGAN_data_9/text_c10/044.Frigatebird' -> 'TAGAN_data/text_c10/044.Frigatebird'\n",
            "renamed 'mini_TAGAN_data_9/text_c10/045.Northern_Fulmar' -> 'TAGAN_data/text_c10/045.Northern_Fulmar'\n"
          ],
          "name": "stdout"
        }
      ]
    },
    {
      "cell_type": "code",
      "metadata": {
        "id": "fdYeVWJWvd0x",
        "colab_type": "code",
        "colab": {}
      },
      "source": [
        "!mv caption_embedding_all.pkl caption_embedding.pkl"
      ],
      "execution_count": 0,
      "outputs": []
    },
    {
      "cell_type": "code",
      "metadata": {
        "id": "cL2C5V4BReE6",
        "colab_type": "code",
        "outputId": "ee2f6d33-43fa-4c2a-b75f-88d2b82b849f",
        "colab": {
          "base_uri": "https://localhost:8080/",
          "height": 85
        }
      },
      "source": [
        "!python3 train.py --cuda --epochs 6 --lambda-2 1000"
      ],
      "execution_count": 0,
      "outputs": [
        {
          "output_type": "stream",
          "text": [
            "after seeds\n",
            "after model_id\n",
            "after kwargs\n",
            "^C\n"
          ],
          "name": "stdout"
        }
      ]
    }
  ]
}